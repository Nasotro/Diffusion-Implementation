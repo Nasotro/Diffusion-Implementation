{
 "cells": [
  {
   "cell_type": "code",
   "execution_count": 1,
   "id": "16683b62",
   "metadata": {},
   "outputs": [],
   "source": [
    "from models.VAE import VAE\n",
    "from models.unet import Unet\n",
    "import torch\n",
    "from data.dataset import MNIST_Dataset, CIFAR10_Dataset, Dataset\n",
    "from utils.utils import show_image\n",
    "import torch\n",
    "import torch.nn as nn\n",
    "\n",
    "\n",
    "cfg = {\n",
    "    \"image_size\": 64,\n",
    "    \"channels\": 3,\n",
    "    \"latent_dim\": 64,\n",
    "    \"dataset\": \"celeba\",\n",
    "    \"batch_size\": 32,\n",
    "    \"num_epochs\": 10,\n",
    "    \"learning_rate\": 1e-3,\n",
    "    \"n_epochs_kl_annealing\": 5,\n",
    "    \"depth\": 3,\n",
    "    \"beta\": 2.0\n",
    "}\n",
    "\n",
    "model_path = f\"vae_{cfg['dataset']}.pth\""
   ]
  },
  {
   "cell_type": "code",
   "execution_count": 2,
   "id": "2dac5063",
   "metadata": {},
   "outputs": [
    {
     "name": "stderr",
     "output_type": "stream",
     "text": [
      "c:\\Users\\Lorrain\\AppData\\Local\\Programs\\Python\\Python311\\Lib\\site-packages\\pydantic\\_internal\\_generate_schema.py:2249: UnsupportedFieldAttributeWarning: The 'repr' attribute with value False was provided to the `Field()` function, which has no effect in the context it was used. 'repr' is field-specific metadata, and can only be attached to a model field using `Annotated` metadata or by assignment. This may have happened because an `Annotated` type alias using the `type` statement was used, or if the `Field()` function was attached to a single member of a union type.\n",
      "  warnings.warn(\n",
      "c:\\Users\\Lorrain\\AppData\\Local\\Programs\\Python\\Python311\\Lib\\site-packages\\pydantic\\_internal\\_generate_schema.py:2249: UnsupportedFieldAttributeWarning: The 'frozen' attribute with value True was provided to the `Field()` function, which has no effect in the context it was used. 'frozen' is field-specific metadata, and can only be attached to a model field using `Annotated` metadata or by assignment. This may have happened because an `Annotated` type alias using the `type` statement was used, or if the `Field()` function was attached to a single member of a union type.\n",
      "  warnings.warn(\n",
      "\u001b[34m\u001b[1mwandb\u001b[0m: Currently logged in as: \u001b[33mlorrain-morlet\u001b[0m (\u001b[33mlorrain\u001b[0m) to \u001b[32mhttps://api.wandb.ai\u001b[0m. Use \u001b[1m`wandb login --relogin`\u001b[0m to force relogin\n"
     ]
    },
    {
     "data": {
      "text/html": [],
      "text/plain": [
       "<IPython.core.display.HTML object>"
      ]
     },
     "metadata": {},
     "output_type": "display_data"
    },
    {
     "data": {
      "text/html": [
       "Tracking run with wandb version 0.22.2"
      ],
      "text/plain": [
       "<IPython.core.display.HTML object>"
      ]
     },
     "metadata": {},
     "output_type": "display_data"
    },
    {
     "data": {
      "text/html": [
       "Run data is saved locally in <code>c:\\Users\\Lorrain\\Documents\\Projets\\AI training\\Diffusion\\Diffusion-Implementation\\wandb\\run-20251014_102056-98apogj6</code>"
      ],
      "text/plain": [
       "<IPython.core.display.HTML object>"
      ]
     },
     "metadata": {},
     "output_type": "display_data"
    },
    {
     "data": {
      "text/html": [
       "Syncing run <strong><a href='https://wandb.ai/lorrain/Diffusion%20VAE/runs/98apogj6' target=\"_blank\">fiery-puddle-14</a></strong> to <a href='https://wandb.ai/lorrain/Diffusion%20VAE' target=\"_blank\">Weights & Biases</a> (<a href='https://wandb.me/developer-guide' target=\"_blank\">docs</a>)<br>"
      ],
      "text/plain": [
       "<IPython.core.display.HTML object>"
      ]
     },
     "metadata": {},
     "output_type": "display_data"
    },
    {
     "data": {
      "text/html": [
       " View project at <a href='https://wandb.ai/lorrain/Diffusion%20VAE' target=\"_blank\">https://wandb.ai/lorrain/Diffusion%20VAE</a>"
      ],
      "text/plain": [
       "<IPython.core.display.HTML object>"
      ]
     },
     "metadata": {},
     "output_type": "display_data"
    },
    {
     "data": {
      "text/html": [
       " View run at <a href='https://wandb.ai/lorrain/Diffusion%20VAE/runs/98apogj6' target=\"_blank\">https://wandb.ai/lorrain/Diffusion%20VAE/runs/98apogj6</a>"
      ],
      "text/plain": [
       "<IPython.core.display.HTML object>"
      ]
     },
     "metadata": {},
     "output_type": "display_data"
    }
   ],
   "source": [
    "import wandb\n",
    "\n",
    "run = wandb.init(\n",
    "    entity=\"lorrain\",\n",
    "    project=\"Diffusion VAE\",\n",
    "    config=cfg\n",
    ")"
   ]
  },
  {
   "cell_type": "code",
   "execution_count": 3,
   "id": "3b9f7215",
   "metadata": {},
   "outputs": [],
   "source": [
    "class Encoder(nn.Module):\n",
    "    def __init__(self, in_channels=1, latent_dim=20):\n",
    "        super(Encoder, self).__init__()\n",
    "        self.conv1 = nn.Conv2d(\n",
    "            in_channels, 16, kernel_size=2, stride=2, padding=0)\n",
    "        self.conv2 = nn.Conv2d(16, 32, kernel_size=2, stride=2, padding=0)\n",
    "        self.fc_mu = nn.Linear(32 * 8 * 8, latent_dim)\n",
    "        self.fc_logvar = nn.Linear(32 * 8 * 8, latent_dim)\n",
    "        self.relu = nn.ReLU()\n",
    "\n",
    "    def forward(self, x):\n",
    "        x = self.relu(self.conv1(x))\n",
    "        x = self.relu(self.conv2(x))\n",
    "        x = x.view(x.size(0), -1)\n",
    "        mu = self.fc_mu(x)\n",
    "        logvar = self.fc_logvar(x)\n",
    "        return mu, logvar\n",
    "\n",
    "\n",
    "class Decoder(nn.Module):\n",
    "    def __init__(self, out_channels=1, latent_dim=20):\n",
    "        super(Decoder, self).__init__()\n",
    "        self.fc1 = nn.Linear(latent_dim, 32 * 8 * 8)\n",
    "        # self.fc2 = nn.Linear(32 * 8, 32 * 8 * 8)\n",
    "        self.deconv1 = nn.ConvTranspose2d(\n",
    "            32, 16, kernel_size=4, stride=2, padding=1)\n",
    "        self.deconv2 = nn.ConvTranspose2d(\n",
    "            16, out_channels, kernel_size=4, stride=2, padding=1)\n",
    "        self.relu = nn.ReLU()\n",
    "        self.sig = nn.Sigmoid()\n",
    "\n",
    "    def forward(self, z):\n",
    "        z = self.relu(self.fc1(z))\n",
    "        # z = self.relu(self.fc2(z))\n",
    "        z = z.view(z.size(0), 32, 8, 8)\n",
    "        z = self.relu(self.deconv1(z))\n",
    "        z = self.sig(self.deconv2(z))\n",
    "        return z\n",
    "\n",
    "\n",
    "class VAE_test(nn.Module):\n",
    "    def __init__(self, in_channels=1, latent_dim=20):\n",
    "        super().__init__()\n",
    "        self.encoder = Encoder(in_channels, latent_dim)\n",
    "        self.decoder = Decoder(in_channels, latent_dim)\n",
    "        # self.encoder = nn.Sequential(\n",
    "        #     nn.Linear(32*32*in_channels, latent_dim),\n",
    "        #     nn.ReLU(),\n",
    "        #     nn.Linear(latent_dim, latent_dim*2),  # Output both mu and logvar\n",
    "        #     nn.ReLU()\n",
    "        # )\n",
    "        # self.decoder = nn.Sequential(\n",
    "        #     nn.Linear(latent_dim, 32*32*in_channels),\n",
    "        #     nn.Sigmoid()\n",
    "        # )\n",
    "        self.latent_dim = latent_dim\n",
    "\n",
    "    def encode(self, x):\n",
    "        mu, logvar = self.encoder(x)\n",
    "        # mu_logvar = self.encoder(x)\n",
    "        # mu = mu_logvar[:, :self.latent_dim]\n",
    "        # logvar = mu_logvar[:, self.latent_dim:]\n",
    "        # return mu, logvar\n",
    "        return mu, logvar\n",
    "\n",
    "    def decode(self, z):\n",
    "        return self.decoder(z)\n",
    "\n",
    "    def forward(self, x):\n",
    "        # x = x.view(x.size(0), -1)\n",
    "        mu, logvar = self.encode(x)\n",
    "        z = self.reparameterize(mu, logvar)\n",
    "        h = self.decode(z)\n",
    "        h = h.view(x.size(0), 1, 32, 32)\n",
    "        return h, mu, logvar\n",
    "\n",
    "    def reparameterize(self, mu, logvar):\n",
    "        std = torch.exp(0.5 * logvar)\n",
    "        eps = torch.randn_like(std)\n",
    "        return mu + eps * std"
   ]
  },
  {
   "cell_type": "code",
   "execution_count": 4,
   "id": "bec0eb6f",
   "metadata": {},
   "outputs": [
    {
     "name": "stdout",
     "output_type": "stream",
     "text": [
      "VAE(\n",
      "  (encoder): VAEEncoder(\n",
      "    (down_blocks): ModuleList(\n",
      "      (0): DownBlock(\n",
      "        (silu): SiLU()\n",
      "        (convs): ModuleList(\n",
      "          (0): Conv2d(3, 16, kernel_size=(3, 3), stride=(1, 1), padding=(1, 1))\n",
      "          (1): Conv2d(16, 16, kernel_size=(3, 3), stride=(1, 1), padding=(1, 1))\n",
      "        )\n",
      "        (norms): ModuleList(\n",
      "          (0-1): 2 x BatchNorm2d(16, eps=1e-05, momentum=0.1, affine=True, track_running_stats=True)\n",
      "        )\n",
      "        (dropouts): ModuleList(\n",
      "          (0-1): 2 x Dropout(p=0.0, inplace=False)\n",
      "        )\n",
      "        (max_pooling): MaxPool2d(kernel_size=3, stride=2, padding=1, dilation=1, ceil_mode=False)\n",
      "      )\n",
      "      (1): DownBlock(\n",
      "        (silu): SiLU()\n",
      "        (convs): ModuleList(\n",
      "          (0): Conv2d(16, 32, kernel_size=(3, 3), stride=(1, 1), padding=(1, 1))\n",
      "          (1): Conv2d(32, 32, kernel_size=(3, 3), stride=(1, 1), padding=(1, 1))\n",
      "        )\n",
      "        (norms): ModuleList(\n",
      "          (0-1): 2 x BatchNorm2d(32, eps=1e-05, momentum=0.1, affine=True, track_running_stats=True)\n",
      "        )\n",
      "        (dropouts): ModuleList(\n",
      "          (0-1): 2 x Dropout(p=0.0, inplace=False)\n",
      "        )\n",
      "        (max_pooling): MaxPool2d(kernel_size=3, stride=2, padding=1, dilation=1, ceil_mode=False)\n",
      "      )\n",
      "      (2): DownBlock(\n",
      "        (silu): SiLU()\n",
      "        (convs): ModuleList(\n",
      "          (0): Conv2d(32, 64, kernel_size=(3, 3), stride=(1, 1), padding=(1, 1))\n",
      "          (1): Conv2d(64, 64, kernel_size=(3, 3), stride=(1, 1), padding=(1, 1))\n",
      "        )\n",
      "        (norms): ModuleList(\n",
      "          (0-1): 2 x BatchNorm2d(64, eps=1e-05, momentum=0.1, affine=True, track_running_stats=True)\n",
      "        )\n",
      "        (dropouts): ModuleList(\n",
      "          (0-1): 2 x Dropout(p=0.0, inplace=False)\n",
      "        )\n",
      "        (max_pooling): MaxPool2d(kernel_size=3, stride=2, padding=1, dilation=1, ceil_mode=False)\n",
      "      )\n",
      "    )\n",
      "    (bottleneck): VAEBottleneck(\n",
      "      (convs): ModuleList(\n",
      "        (0): Conv2d(64, 128, kernel_size=(3, 3), stride=(1, 1), padding=(1, 1))\n",
      "        (1): Conv2d(128, 128, kernel_size=(3, 3), stride=(1, 1), padding=(1, 1))\n",
      "      )\n",
      "      (norms): ModuleList(\n",
      "        (0-1): 2 x BatchNorm2d(128, eps=1e-05, momentum=0.1, affine=True, track_running_stats=True)\n",
      "      )\n",
      "      (dropouts): ModuleList(\n",
      "        (0-1): 2 x Dropout(p=0.0, inplace=False)\n",
      "      )\n",
      "      (silu): SiLU()\n",
      "    )\n",
      "    (fc_mu): Conv2d(128, 64, kernel_size=(1, 1), stride=(1, 1))\n",
      "    (fc_logvar): Conv2d(128, 64, kernel_size=(1, 1), stride=(1, 1))\n",
      "  )\n",
      "  (decoder): VAEDecoder(\n",
      "    (up_blocks): ModuleList(\n",
      "      (0): UpBlock(\n",
      "        (silu): SiLU()\n",
      "        (convs): ModuleList(\n",
      "          (0): Conv2d(64, 32, kernel_size=(3, 3), stride=(1, 1), padding=(1, 1))\n",
      "          (1): Conv2d(32, 32, kernel_size=(3, 3), stride=(1, 1), padding=(1, 1))\n",
      "        )\n",
      "        (norms): ModuleList(\n",
      "          (0-1): 2 x BatchNorm2d(32, eps=1e-05, momentum=0.1, affine=True, track_running_stats=True)\n",
      "        )\n",
      "        (dropouts): ModuleList(\n",
      "          (0-1): 2 x Dropout(p=0.0, inplace=False)\n",
      "        )\n",
      "        (up_conv): ConvTranspose2d(32, 32, kernel_size=(2, 2), stride=(2, 2))\n",
      "      )\n",
      "      (1): UpBlock(\n",
      "        (silu): SiLU()\n",
      "        (convs): ModuleList(\n",
      "          (0): Conv2d(32, 16, kernel_size=(3, 3), stride=(1, 1), padding=(1, 1))\n",
      "          (1): Conv2d(16, 16, kernel_size=(3, 3), stride=(1, 1), padding=(1, 1))\n",
      "        )\n",
      "        (norms): ModuleList(\n",
      "          (0-1): 2 x BatchNorm2d(16, eps=1e-05, momentum=0.1, affine=True, track_running_stats=True)\n",
      "        )\n",
      "        (dropouts): ModuleList(\n",
      "          (0-1): 2 x Dropout(p=0.0, inplace=False)\n",
      "        )\n",
      "        (up_conv): ConvTranspose2d(16, 16, kernel_size=(2, 2), stride=(2, 2))\n",
      "      )\n",
      "      (2): UpBlock(\n",
      "        (silu): SiLU()\n",
      "        (convs): ModuleList(\n",
      "          (0): Conv2d(16, 8, kernel_size=(3, 3), stride=(1, 1), padding=(1, 1))\n",
      "          (1): Conv2d(8, 8, kernel_size=(3, 3), stride=(1, 1), padding=(1, 1))\n",
      "        )\n",
      "        (norms): ModuleList(\n",
      "          (0-1): 2 x BatchNorm2d(8, eps=1e-05, momentum=0.1, affine=True, track_running_stats=True)\n",
      "        )\n",
      "        (dropouts): ModuleList(\n",
      "          (0-1): 2 x Dropout(p=0.0, inplace=False)\n",
      "        )\n",
      "        (up_conv): ConvTranspose2d(8, 8, kernel_size=(2, 2), stride=(2, 2))\n",
      "      )\n",
      "    )\n",
      "    (final_conv): Conv2d(8, 3, kernel_size=(1, 1), stride=(1, 1))\n",
      "  )\n",
      ")\n"
     ]
    }
   ],
   "source": [
    "test_model = False\n",
    "latent_dim = cfg['latent_dim']\n",
    "c = cfg['channels']\n",
    "depth = cfg['depth']\n",
    "if test_model:\n",
    "    model = VAE_test(in_channels=c, latent_dim=latent_dim)\n",
    "else:\n",
    "    model = VAE(latent_dim=latent_dim, initial_channels=c, depth=depth)\n",
    "\n",
    "device = 'cuda' if torch.cuda.is_available() else 'cpu'\n",
    "model = model.to(device)\n",
    "print(model)"
   ]
  },
  {
   "cell_type": "code",
   "execution_count": 5,
   "id": "891122dc",
   "metadata": {},
   "outputs": [
    {
     "name": "stdout",
     "output_type": "stream",
     "text": [
      "VAE input shape: torch.Size([1, 3, 64, 64])\n",
      "Encoder input shape: torch.Size([1, 3, 64, 64])\n",
      "Encoder down block 0, input shape: torch.Size([1, 3, 64, 64])\n",
      "DownBlock input shape: torch.Size([1, 3, 64, 64])\n",
      "DownBlock input shape: torch.Size([1, 16, 64, 64])\n",
      "Encoder down block 0, output shape: torch.Size([1, 16, 32, 32])\n",
      "Encoder down block 1, input shape: torch.Size([1, 16, 32, 32])\n",
      "DownBlock input shape: torch.Size([1, 16, 32, 32])\n",
      "DownBlock input shape: torch.Size([1, 32, 32, 32])\n",
      "Encoder down block 1, output shape: torch.Size([1, 32, 16, 16])\n",
      "Encoder down block 2, input shape: torch.Size([1, 32, 16, 16])\n",
      "DownBlock input shape: torch.Size([1, 32, 16, 16])\n",
      "DownBlock input shape: torch.Size([1, 64, 16, 16])\n",
      "Encoder down block 2, output shape: torch.Size([1, 64, 8, 8])\n",
      "Before bottleneck: torch.Size([1, 64, 8, 8])\n",
      "After bottleneck: torch.Size([1, 128, 8, 8])\n",
      "Latent mu shape: torch.Size([1, 64, 8, 8])\n",
      "Latent logvar shape: torch.Size([1, 64, 8, 8])\n",
      "Reparameterized latent shape: torch.Size([1, 64, 8, 8])\n",
      "Decoder input shape: torch.Size([1, 64, 8, 8])\n",
      "Decoder up block 0, input shape: torch.Size([1, 64, 8, 8])\n",
      "UpBlock conv input shape: torch.Size([1, 64, 8, 8])\n",
      "UpBlock conv input shape: torch.Size([1, 32, 8, 8])\n",
      "Decoder up block 0, output shape: torch.Size([1, 32, 16, 16])\n",
      "Decoder up block 1, input shape: torch.Size([1, 32, 16, 16])\n",
      "UpBlock conv input shape: torch.Size([1, 32, 16, 16])\n",
      "UpBlock conv input shape: torch.Size([1, 16, 16, 16])\n",
      "Decoder up block 1, output shape: torch.Size([1, 16, 32, 32])\n",
      "Decoder up block 2, input shape: torch.Size([1, 16, 32, 32])\n",
      "UpBlock conv input shape: torch.Size([1, 16, 32, 32])\n",
      "UpBlock conv input shape: torch.Size([1, 8, 32, 32])\n",
      "Decoder up block 2, output shape: torch.Size([1, 8, 64, 64])\n",
      "Before final conv: torch.Size([1, 8, 64, 64])\n",
      "Final output shape: torch.Size([1, 3, 64, 64])\n",
      "VAE final reconstructed shape: torch.Size([1, 3, 64, 64])\n",
      "torch.Size([1, 3, 64, 64]) torch.Size([1, 64, 8, 8]) torch.Size([1, 64, 8, 8]) torch.Size([1, 64, 8, 8])\n"
     ]
    }
   ],
   "source": [
    "# test with a random tensor\n",
    "x = torch.randn(1, 3, 64, 64).to(device)\n",
    "if test_model:\n",
    "    x, mu, logvar = model(x)\n",
    "else:\n",
    "    x, mu, logvar, z = model(x, verbose=1)\n",
    "\n",
    "print(x.shape, mu.shape, logvar.shape, z.shape)"
   ]
  },
  {
   "cell_type": "markdown",
   "id": "25bb5d5b",
   "metadata": {},
   "source": [
    "Latent space representation: [B, 64, 8, 8]"
   ]
  },
  {
   "cell_type": "code",
   "execution_count": 6,
   "id": "2b1cace3",
   "metadata": {},
   "outputs": [
    {
     "data": {
      "image/png": "[encoded data removed]",
      "text/plain": [
       "<Figure size 640x480 with 1 Axes>"
      ]
     },
     "metadata": {},
     "output_type": "display_data"
    }
   ],
   "source": [
    "if test_model:\n",
    "    latent_shape = (1, latent_dim)\n",
    "else:\n",
    "    latent_shape = (1, latent_dim, 8, 8)\n",
    "\n",
    "def generate_images(model, num_images=5):\n",
    "    model.eval()\n",
    "    with torch.no_grad():\n",
    "        for _ in range(num_images):\n",
    "            z = torch.randn(latent_shape).to(device)\n",
    "            recon_img = model.decode(z)\n",
    "            show_image(recon_img.squeeze(0).cpu(), title=\"Generated Image\", unnormalize=True)\n",
    "\n",
    "generate_images(model, num_images=1)"
   ]
  },
  {
   "cell_type": "code",
   "execution_count": 7,
   "id": "57ccb9e0",
   "metadata": {},
   "outputs": [
    {
     "name": "stdout",
     "output_type": "stream",
     "text": [
      "Files already downloaded and verified\n",
      "Files already downloaded and verified\n",
      "torch.Size([3, 64, 64])\n"
     ]
    },
    {
     "data": {
      "image/png": "[encoded data removed]",
      "text/plain": [
       "<Figure size 640x480 with 1 Axes>"
      ]
     },
     "metadata": {},
     "output_type": "display_data"
    }
   ],
   "source": [
    "import torch.nn as nn\n",
    "from torchvision import transforms\n",
    "\n",
    "img_size = cfg['image_size']\n",
    "c = cfg['channels']\n",
    "transform = transforms.Compose([\n",
    "    transforms.Resize((img_size, img_size)),\n",
    "    transforms.ToTensor(),\n",
    "    # transforms.Normalize((0.5,), (0.5,))\n",
    "])\n",
    "\n",
    "train = CIFAR10_Dataset(split='train', transform=transform)\n",
    "train = MNIST_Dataset(split='train', transform=transform)\n",
    "train = Dataset('CELEBA', split='train', transform=transform)\n",
    "print(train[0][0].shape)\n",
    "show_image(train[0][0], title=train[0][1])\n"
   ]
  },
  {
   "cell_type": "code",
   "execution_count": 12,
   "id": "a6233b0d",
   "metadata": {},
   "outputs": [
    {
     "name": "stdout",
     "output_type": "stream",
     "text": [
      "Mean distance to 0: -0.00481665413826704\n",
      "Mean std deviation: 0.9865261316299438\n",
      "Mean L2 norm: 7.900793075561523\n"
     ]
    }
   ],
   "source": [
    "img = train[5][0].unsqueeze(0).to(device)\n",
    "recon, mu, logvar, z = model(img)\n",
    "\n",
    "latent_mean = torch.mean(z, dim=[0, 2, 3]).mean().item()  # Should be ~0\n",
    "latent_std = torch.std(z, dim=[0, 2, 3]).mean().item()  # Should be ~1\n",
    "latent_l2 = torch.norm(z, p=2, dim=1).mean().item()  # Should be ~√(latent_dim)\n",
    "\n",
    "print(f\"Mean distance to 0: {latent_mean}\")\n",
    "print(f\"Mean std deviation: {latent_std}\")\n",
    "print(f\"Mean L2 norm: {latent_l2}\")"
   ]
  },
  {
   "cell_type": "code",
   "execution_count": null,
   "id": "83b69b53",
   "metadata": {},
   "outputs": [
    {
     "name": "stderr",
     "output_type": "stream",
     "text": [
      "                                                                                                               \r"
     ]
    },
    {
     "name": "stdout",
     "output_type": "stream",
     "text": [
      "Epoch 1/50, Loss: 0.0077, recon_loss: 0.0048, kl_loss: 5.8336, lr: 0.001000\n"
     ]
    },
    {
     "name": "stderr",
     "output_type": "stream",
     "text": [
      "                                                                                                               \r"
     ]
    },
    {
     "name": "stdout",
     "output_type": "stream",
     "text": [
      "Epoch 2/50, Loss: 0.0303, recon_loss: 0.0157, kl_loss: 0.0191, lr: 0.001000\n"
     ]
    },
    {
     "name": "stderr",
     "output_type": "stream",
     "text": [
      "                                                                                                               \r"
     ]
    },
    {
     "name": "stdout",
     "output_type": "stream",
     "text": [
      "Epoch 3/50, Loss: 0.0279, recon_loss: 0.0174, kl_loss: 0.0123, lr: 0.000950\n"
     ]
    },
    {
     "name": "stderr",
     "output_type": "stream",
     "text": [
      "                                                                                                                \r"
     ]
    },
    {
     "name": "stdout",
     "output_type": "stream",
     "text": [
      "Epoch 4/50, Loss: 0.0315, recon_loss: 0.0185, kl_loss: 0.0094, lr: 0.000950\n"
     ]
    },
    {
     "name": "stderr",
     "output_type": "stream",
     "text": [
      "                                                                                                                \r"
     ]
    },
    {
     "name": "stdout",
     "output_type": "stream",
     "text": [
      "Epoch 5/50, Loss: 0.0345, recon_loss: 0.0239, kl_loss: 0.0080, lr: 0.000902\n"
     ]
    },
    {
     "name": "stderr",
     "output_type": "stream",
     "text": [
      "                                                                                                                \r"
     ]
    },
    {
     "name": "stdout",
     "output_type": "stream",
     "text": [
      "Epoch 6/50, Loss: 0.0369, recon_loss: 0.0291, kl_loss: 0.0062, lr: 0.000902\n"
     ]
    },
    {
     "name": "stderr",
     "output_type": "stream",
     "text": [
      "                                                                                                                \r"
     ]
    },
    {
     "name": "stdout",
     "output_type": "stream",
     "text": [
      "Epoch 7/50, Loss: 0.0366, recon_loss: 0.0261, kl_loss: 0.0060, lr: 0.000857\n"
     ]
    },
    {
     "name": "stderr",
     "output_type": "stream",
     "text": [
      "                                                                                                                \r"
     ]
    },
    {
     "name": "stdout",
     "output_type": "stream",
     "text": [
      "Epoch 8/50, Loss: 0.0363, recon_loss: 0.0222, kl_loss: 0.0057, lr: 0.000857\n"
     ]
    },
    {
     "name": "stderr",
     "output_type": "stream",
     "text": [
      "                                                                                                                \r"
     ]
    },
    {
     "name": "stdout",
     "output_type": "stream",
     "text": [
      "Epoch 9/50, Loss: 0.0358, recon_loss: 0.0256, kl_loss: 0.0057, lr: 0.000815\n"
     ]
    },
    {
     "name": "stderr",
     "output_type": "stream",
     "text": [
      "                                                                                                                 \r"
     ]
    },
    {
     "name": "stdout",
     "output_type": "stream",
     "text": [
      "Epoch 10/50, Loss: 0.0354, recon_loss: 0.0244, kl_loss: 0.0057, lr: 0.000815\n"
     ]
    },
    {
     "name": "stderr",
     "output_type": "stream",
     "text": [
      "                                                                                                                 \r"
     ]
    },
    {
     "name": "stdout",
     "output_type": "stream",
     "text": [
      "Epoch 11/50, Loss: 0.0349, recon_loss: 0.0289, kl_loss: 0.0056, lr: 0.000774\n"
     ]
    },
    {
     "name": "stderr",
     "output_type": "stream",
     "text": [
      "                                                                                                                 \r"
     ]
    },
    {
     "name": "stdout",
     "output_type": "stream",
     "text": [
      "Epoch 12/50, Loss: 0.0346, recon_loss: 0.0258, kl_loss: 0.0056, lr: 0.000774\n"
     ]
    },
    {
     "name": "stderr",
     "output_type": "stream",
     "text": [
      "                                                                                                                 \r"
     ]
    },
    {
     "name": "stdout",
     "output_type": "stream",
     "text": [
      "Epoch 13/50, Loss: 0.0343, recon_loss: 0.0245, kl_loss: 0.0055, lr: 0.000735\n"
     ]
    },
    {
     "name": "stderr",
     "output_type": "stream",
     "text": [
      "                                                                                                                 \r"
     ]
    },
    {
     "name": "stdout",
     "output_type": "stream",
     "text": [
      "Epoch 14/50, Loss: 0.0341, recon_loss: 0.0222, kl_loss: 0.0055, lr: 0.000735\n"
     ]
    },
    {
     "name": "stderr",
     "output_type": "stream",
     "text": [
      "                                                                                                                 \r"
     ]
    },
    {
     "name": "stdout",
     "output_type": "stream",
     "text": [
      "Epoch 15/50, Loss: 0.0339, recon_loss: 0.0197, kl_loss: 0.0053, lr: 0.000698\n"
     ]
    },
    {
     "name": "stderr",
     "output_type": "stream",
     "text": [
      "                                                                                                                 \r"
     ]
    },
    {
     "name": "stdout",
     "output_type": "stream",
     "text": [
      "Epoch 16/50, Loss: 0.0338, recon_loss: 0.0231, kl_loss: 0.0055, lr: 0.000698\n"
     ]
    },
    {
     "name": "stderr",
     "output_type": "stream",
     "text": [
      "                                                                                                                 \r"
     ]
    },
    {
     "name": "stdout",
     "output_type": "stream",
     "text": [
      "Epoch 17/50, Loss: 0.0336, recon_loss: 0.0202, kl_loss: 0.0052, lr: 0.000663\n"
     ]
    },
    {
     "name": "stderr",
     "output_type": "stream",
     "text": [
      "                                                                                                                 \r"
     ]
    },
    {
     "name": "stdout",
     "output_type": "stream",
     "text": [
      "Epoch 18/50, Loss: 0.0336, recon_loss: 0.0225, kl_loss: 0.0053, lr: 0.000663\n"
     ]
    },
    {
     "name": "stderr",
     "output_type": "stream",
     "text": [
      "                                                                                                                 \r"
     ]
    },
    {
     "name": "stdout",
     "output_type": "stream",
     "text": [
      "Epoch 19/50, Loss: 0.0335, recon_loss: 0.0252, kl_loss: 0.0053, lr: 0.000630\n"
     ]
    },
    {
     "name": "stderr",
     "output_type": "stream",
     "text": [
      "                                                                                                                 \r"
     ]
    },
    {
     "name": "stdout",
     "output_type": "stream",
     "text": [
      "Epoch 20/50, Loss: 0.0334, recon_loss: 0.0204, kl_loss: 0.0054, lr: 0.000630\n"
     ]
    },
    {
     "name": "stderr",
     "output_type": "stream",
     "text": [
      "                                                                                                                 \r"
     ]
    },
    {
     "name": "stdout",
     "output_type": "stream",
     "text": [
      "Epoch 21/50, Loss: 0.0333, recon_loss: 0.0253, kl_loss: 0.0054, lr: 0.000599\n"
     ]
    },
    {
     "name": "stderr",
     "output_type": "stream",
     "text": [
      "                                                                                                                 \r"
     ]
    },
    {
     "name": "stdout",
     "output_type": "stream",
     "text": [
      "Epoch 22/50, Loss: 0.0333, recon_loss: 0.0238, kl_loss: 0.0053, lr: 0.000599\n"
     ]
    },
    {
     "name": "stderr",
     "output_type": "stream",
     "text": [
      "                                                                                                                 \r"
     ]
    },
    {
     "name": "stdout",
     "output_type": "stream",
     "text": [
      "Epoch 23/50, Loss: 0.0332, recon_loss: 0.0207, kl_loss: 0.0049, lr: 0.000569\n"
     ]
    },
    {
     "name": "stderr",
     "output_type": "stream",
     "text": [
      "                                                                                                                 \r"
     ]
    },
    {
     "name": "stdout",
     "output_type": "stream",
     "text": [
      "Epoch 24/50, Loss: 0.0332, recon_loss: 0.0234, kl_loss: 0.0055, lr: 0.000569\n"
     ]
    },
    {
     "name": "stderr",
     "output_type": "stream",
     "text": [
      "                                                                                                                 \r"
     ]
    },
    {
     "name": "stdout",
     "output_type": "stream",
     "text": [
      "Epoch 25/50, Loss: 0.0331, recon_loss: 0.0228, kl_loss: 0.0051, lr: 0.000540\n"
     ]
    },
    {
     "name": "stderr",
     "output_type": "stream",
     "text": [
      "                                                                                                                 \r"
     ]
    },
    {
     "name": "stdout",
     "output_type": "stream",
     "text": [
      "Epoch 26/50, Loss: 0.0331, recon_loss: 0.0204, kl_loss: 0.0051, lr: 0.000540\n"
     ]
    },
    {
     "name": "stderr",
     "output_type": "stream",
     "text": [
      "                                                                                                                 \r"
     ]
    },
    {
     "name": "stdout",
     "output_type": "stream",
     "text": [
      "Epoch 27/50, Loss: 0.0330, recon_loss: 0.0211, kl_loss: 0.0053, lr: 0.000513\n"
     ]
    },
    {
     "name": "stderr",
     "output_type": "stream",
     "text": [
      "                                                                                                                 \r"
     ]
    },
    {
     "name": "stdout",
     "output_type": "stream",
     "text": [
      "Epoch 28/50, Loss: 0.0330, recon_loss: 0.0276, kl_loss: 0.0054, lr: 0.000513\n"
     ]
    },
    {
     "name": "stderr",
     "output_type": "stream",
     "text": [
      "                                                                                                                 \r"
     ]
    },
    {
     "name": "stdout",
     "output_type": "stream",
     "text": [
      "Epoch 29/50, Loss: 0.0329, recon_loss: 0.0220, kl_loss: 0.0049, lr: 0.000488\n"
     ]
    },
    {
     "name": "stderr",
     "output_type": "stream",
     "text": [
      "                                                                                                                 \r"
     ]
    },
    {
     "name": "stdout",
     "output_type": "stream",
     "text": [
      "Epoch 30/50, Loss: 0.0329, recon_loss: 0.0204, kl_loss: 0.0052, lr: 0.000488\n"
     ]
    },
    {
     "name": "stderr",
     "output_type": "stream",
     "text": [
      "                                                                                                                 \r"
     ]
    },
    {
     "name": "stdout",
     "output_type": "stream",
     "text": [
      "Epoch 31/50, Loss: 0.0328, recon_loss: 0.0230, kl_loss: 0.0052, lr: 0.000463\n"
     ]
    },
    {
     "name": "stderr",
     "output_type": "stream",
     "text": [
      "                                                                                                                 \r"
     ]
    },
    {
     "name": "stdout",
     "output_type": "stream",
     "text": [
      "Epoch 32/50, Loss: 0.0328, recon_loss: 0.0205, kl_loss: 0.0050, lr: 0.000463\n"
     ]
    },
    {
     "name": "stderr",
     "output_type": "stream",
     "text": [
      "                                                                                                                 \r"
     ]
    },
    {
     "name": "stdout",
     "output_type": "stream",
     "text": [
      "Epoch 33/50, Loss: 0.0328, recon_loss: 0.0257, kl_loss: 0.0052, lr: 0.000440\n"
     ]
    },
    {
     "name": "stderr",
     "output_type": "stream",
     "text": [
      "                                                                                                                 \r"
     ]
    },
    {
     "name": "stdout",
     "output_type": "stream",
     "text": [
      "Epoch 34/50, Loss: 0.0327, recon_loss: 0.0213, kl_loss: 0.0051, lr: 0.000440\n"
     ]
    },
    {
     "name": "stderr",
     "output_type": "stream",
     "text": [
      "                                                                                                                 \r"
     ]
    },
    {
     "name": "stdout",
     "output_type": "stream",
     "text": [
      "Epoch 35/50, Loss: 0.0327, recon_loss: 0.0226, kl_loss: 0.0050, lr: 0.000418\n"
     ]
    },
    {
     "name": "stderr",
     "output_type": "stream",
     "text": [
      "                                                                                                                 \r"
     ]
    },
    {
     "name": "stdout",
     "output_type": "stream",
     "text": [
      "Epoch 36/50, Loss: 0.0327, recon_loss: 0.0231, kl_loss: 0.0052, lr: 0.000418\n"
     ]
    },
    {
     "name": "stderr",
     "output_type": "stream",
     "text": [
      "                                                                                                                 \r"
     ]
    },
    {
     "name": "stdout",
     "output_type": "stream",
     "text": [
      "Epoch 37/50, Loss: 0.0326, recon_loss: 0.0229, kl_loss: 0.0053, lr: 0.000397\n"
     ]
    },
    {
     "name": "stderr",
     "output_type": "stream",
     "text": [
      "                                                                                                                 \r"
     ]
    },
    {
     "name": "stdout",
     "output_type": "stream",
     "text": [
      "Epoch 38/50, Loss: 0.0326, recon_loss: 0.0212, kl_loss: 0.0052, lr: 0.000397\n"
     ]
    },
    {
     "name": "stderr",
     "output_type": "stream",
     "text": [
      "                                                                                                                 \r"
     ]
    },
    {
     "name": "stdout",
     "output_type": "stream",
     "text": [
      "Epoch 39/50, Loss: 0.0326, recon_loss: 0.0262, kl_loss: 0.0053, lr: 0.000377\n"
     ]
    },
    {
     "name": "stderr",
     "output_type": "stream",
     "text": [
      "                                                                                                                 \r"
     ]
    },
    {
     "name": "stdout",
     "output_type": "stream",
     "text": [
      "Epoch 40/50, Loss: 0.0326, recon_loss: 0.0219, kl_loss: 0.0052, lr: 0.000377\n"
     ]
    },
    {
     "name": "stderr",
     "output_type": "stream",
     "text": [
      "                                                                                                                 \r"
     ]
    },
    {
     "name": "stdout",
     "output_type": "stream",
     "text": [
      "Epoch 41/50, Loss: 0.0325, recon_loss: 0.0205, kl_loss: 0.0048, lr: 0.000358\n"
     ]
    },
    {
     "name": "stderr",
     "output_type": "stream",
     "text": [
      "                                                                                                                 \r"
     ]
    },
    {
     "name": "stdout",
     "output_type": "stream",
     "text": [
      "Epoch 42/50, Loss: 0.0325, recon_loss: 0.0215, kl_loss: 0.0049, lr: 0.000358\n"
     ]
    },
    {
     "name": "stderr",
     "output_type": "stream",
     "text": [
      "                                                                                                                 \r"
     ]
    },
    {
     "name": "stdout",
     "output_type": "stream",
     "text": [
      "Epoch 43/50, Loss: 0.0325, recon_loss: 0.0250, kl_loss: 0.0051, lr: 0.000341\n"
     ]
    },
    {
     "name": "stderr",
     "output_type": "stream",
     "text": [
      "                                                                                                                 \r"
     ]
    },
    {
     "name": "stdout",
     "output_type": "stream",
     "text": [
      "Epoch 44/50, Loss: 0.0325, recon_loss: 0.0202, kl_loss: 0.0051, lr: 0.000341\n"
     ]
    },
    {
     "name": "stderr",
     "output_type": "stream",
     "text": [
      "                                                                                                                 \r"
     ]
    },
    {
     "name": "stdout",
     "output_type": "stream",
     "text": [
      "Epoch 45/50, Loss: 0.0324, recon_loss: 0.0214, kl_loss: 0.0051, lr: 0.000324\n"
     ]
    },
    {
     "name": "stderr",
     "output_type": "stream",
     "text": [
      "                                                                                                                 \r"
     ]
    },
    {
     "name": "stdout",
     "output_type": "stream",
     "text": [
      "Epoch 46/50, Loss: 0.0324, recon_loss: 0.0214, kl_loss: 0.0052, lr: 0.000324\n"
     ]
    },
    {
     "name": "stderr",
     "output_type": "stream",
     "text": [
      "                                                                                                                 \r"
     ]
    },
    {
     "name": "stdout",
     "output_type": "stream",
     "text": [
      "Epoch 47/50, Loss: 0.0324, recon_loss: 0.0254, kl_loss: 0.0050, lr: 0.000307\n"
     ]
    },
    {
     "name": "stderr",
     "output_type": "stream",
     "text": [
      "                                                                                                                 \r"
     ]
    },
    {
     "name": "stdout",
     "output_type": "stream",
     "text": [
      "Epoch 48/50, Loss: 0.0324, recon_loss: 0.0247, kl_loss: 0.0051, lr: 0.000307\n"
     ]
    },
    {
     "name": "stderr",
     "output_type": "stream",
     "text": [
      "                                                                                                                 \r"
     ]
    },
    {
     "name": "stdout",
     "output_type": "stream",
     "text": [
      "Epoch 49/50, Loss: 0.0324, recon_loss: 0.0249, kl_loss: 0.0053, lr: 0.000292\n"
     ]
    },
    {
     "name": "stderr",
     "output_type": "stream",
     "text": [
      "                                                                                                                 "
     ]
    },
    {
     "name": "stdout",
     "output_type": "stream",
     "text": [
      "Epoch 50/50, Loss: 0.0324, recon_loss: 0.0210, kl_loss: 0.0050, lr: 0.000292\n"
     ]
    },
    {
     "name": "stderr",
     "output_type": "stream",
     "text": [
      "\r"
     ]
    }
   ],
   "source": [
    "from torch.utils.data import DataLoader\n",
    "from tqdm import tqdm\n",
    "\n",
    "dataloader = DataLoader(train, batch_size=cfg['batch_size'], shuffle=True, num_workers=2)\n",
    "optimizer = torch.optim.AdamW(model.parameters(), lr=cfg['learning_rate'])\n",
    "scheduler = torch.optim.lr_scheduler.StepLR(optimizer, step_size=2, gamma=0.95)\n",
    "\n",
    "def vae_loss(recon_x, x, mu, logvar, beta=1.0, epoch=0, max_anneal_epochs=10):\n",
    "    # print(recon_x.shape, x.shape)\n",
    "    # print(\"recon_x min/max:\", recon_x.min().item(), recon_x.max().item())\n",
    "    # print(\"x min/max:\", x.min().item(), x.max().item())\n",
    "    recon_loss = nn.functional.mse_loss(recon_x, x, reduction='mean')\n",
    "    kl_loss = -0.5 * torch.mean(1 + logvar - mu.pow(2) - logvar.exp())\n",
    "    # print(\"recon_loss:\", recon_loss.item(), \"kl_loss:\", kl_loss.item())\n",
    "    if epoch < max_anneal_epochs:\n",
    "        beta = beta * epoch / max_anneal_epochs\n",
    "    total_loss = recon_loss + beta * kl_loss\n",
    "    return total_loss, recon_loss, kl_loss\n",
    "\n",
    "losses = {\n",
    "    'total': [],\n",
    "    'recon': [],\n",
    "    'kl': []\n",
    "}\n",
    "def train_vae(model, train_loader,optimizer, epochs=20):\n",
    "    vae_losses = []\n",
    "    model.train()\n",
    "    for epoch in range(epochs):\n",
    "        epoch_loss = 0\n",
    "        progress_bar = tqdm(train_loader, desc=f\"Epoch {epoch+1}/{epochs}\", leave=False)\n",
    "        for images, _ in progress_bar:\n",
    "            # print(images.shape)\n",
    "            images = images.to(device)\n",
    "            recon, mu, logvar, z = model(images)\n",
    "\n",
    "            loss, recon_loss, kl_loss = vae_loss(recon, images, mu, logvar, beta=cfg['beta'], epoch=epoch, max_anneal_epochs=cfg['n_epochs_kl_annealing'])\n",
    "            # show_image(images[0], title=f\"Input Image, loss : {loss.item():.4f}\")\n",
    "            # show_image(recon[0], title=f\"Reconstructed Image, loss : {loss.item():.4f}\")\n",
    "            optimizer.zero_grad()\n",
    "            loss.backward()\n",
    "            optimizer.step()\n",
    "\n",
    "            epoch_loss += loss.item()\n",
    "            progress_bar.set_postfix(loss=loss.item(), recon_loss=recon_loss.item(), kl_loss=kl_loss.item())\n",
    "            \n",
    "            wandb.log({\n",
    "                \"batch/total_loss\": loss.item(),\n",
    "                \"batch/recon_loss\": recon_loss.item(),\n",
    "                \"batch/kl_loss\": kl_loss.item(),\n",
    "                \"batch/lr\": scheduler.get_last_lr()[0]\n",
    "            })\n",
    "\n",
    "            losses['total'].append(loss.item())\n",
    "            losses['recon'].append(recon_loss.item())\n",
    "            losses['kl'].append(kl_loss.item())\n",
    "\n",
    "        # Calculate average loss for the epoch\n",
    "        avg_epoch_loss = epoch_loss / len(train_loader)\n",
    "        vae_losses.append(avg_epoch_loss)\n",
    "\n",
    "        # Log epoch-level metrics to wandb\n",
    "        wandb.log({\n",
    "            \"epoch/total_loss\": avg_epoch_loss,\n",
    "            \"epoch/recon_loss\": recon_loss.item(),\n",
    "            \"epoch/kl_loss\": kl_loss.item(),\n",
    "            \"epoch/lr\": scheduler.get_last_lr()[0]\n",
    "        })\n",
    "        \n",
    "        if epoch % 2 == 0:\n",
    "            wandb.log({\n",
    "                \"input_image\": wandb.Image(images[0].cpu()),\n",
    "                \"reconstructed_image\": wandb.Image(recon[0].cpu())\n",
    "            })\n",
    "            \n",
    "            # break\n",
    "        vae_losses.append(epoch_loss / len(train_loader))\n",
    "        print(f\"Epoch {epoch+1}/{epochs}, Loss: {vae_losses[-1]:.4f}, recon_loss: {recon_loss.item():.4f}, kl_loss: {kl_loss.item():.4f}, lr: {scheduler.get_last_lr()[0]:.6f}\")\n",
    "        scheduler.step()\n",
    "    return losses\n",
    "\n",
    "losses = train_vae(model, dataloader, optimizer, epochs=50)\n",
    "\n",
    "torch.save(model.state_dict(), model_path)\n"
   ]
  },
  {
   "cell_type": "code",
   "execution_count": null,
   "id": "cd4d3e1a",
   "metadata": {},
   "outputs": [],
   "source": [
    "# model.load_state_dict(torch.load(model_path))\n",
    "# model.eval()"
   ]
  },
  {
   "cell_type": "code",
   "execution_count": 10,
   "id": "0edbac1d",
   "metadata": {},
   "outputs": [
    {
     "data": {
      "image/png": "[encoded data removed]",
      "text/plain": [
       "<Figure size 640x480 with 1 Axes>"
      ]
     },
     "metadata": {},
     "output_type": "display_data"
    },
    {
     "data": {
      "image/png": "[encoded data removed]",
      "text/plain": [
       "<Figure size 640x480 with 1 Axes>"
      ]
     },
     "metadata": {},
     "output_type": "display_data"
    }
   ],
   "source": [
    "generate_images(model, num_images=2)"
   ]
  },
  {
   "cell_type": "code",
   "execution_count": null,
   "id": "0509f872",
   "metadata": {},
   "outputs": [
    {
     "ename": "ValueError",
     "evalue": "not enough values to unpack (expected 4, got 3)",
     "output_type": "error",
     "traceback": [
      "\u001b[1;31m---------------------------------------------------------------------------\u001b[0m",
      "\u001b[1;31mValueError\u001b[0m                                Traceback (most recent call last)",
      "Cell \u001b[1;32mIn[14], line 2\u001b[0m\n\u001b[0;32m      1\u001b[0m img \u001b[38;5;241m=\u001b[39m train[\u001b[38;5;241m5\u001b[39m][\u001b[38;5;241m0\u001b[39m]\u001b[38;5;241m.\u001b[39munsqueeze(\u001b[38;5;241m0\u001b[39m)\u001b[38;5;241m.\u001b[39mto(device)\n\u001b[1;32m----> 2\u001b[0m recon, mu, logvar, z \u001b[38;5;241m=\u001b[39m model(img)\n\u001b[0;32m      3\u001b[0m \u001b[38;5;28mprint\u001b[39m(torch\u001b[38;5;241m.\u001b[39mmean((img \u001b[38;5;241m-\u001b[39m recon) \u001b[38;5;241m*\u001b[39m\u001b[38;5;241m*\u001b[39m \u001b[38;5;241m2\u001b[39m)\u001b[38;5;241m.\u001b[39mitem())\n\u001b[0;32m      4\u001b[0m show_image(img\u001b[38;5;241m.\u001b[39msqueeze(\u001b[38;5;241m0\u001b[39m)\u001b[38;5;241m.\u001b[39mcpu(), title\u001b[38;5;241m=\u001b[39m\u001b[38;5;124m\"\u001b[39m\u001b[38;5;124mOriginal Image\u001b[39m\u001b[38;5;124m\"\u001b[39m)\n",
      "\u001b[1;31mValueError\u001b[0m: not enough values to unpack (expected 4, got 3)"
     ]
    }
   ],
   "source": [
    "img = train[5][0].unsqueeze(0).to(device)\n",
    "recon, mu, logvar, z = model(img)\n",
    "print(torch.mean((img - recon) ** 2).item())\n",
    "show_image(img.squeeze(0).cpu(), title=\"Original Image\")\n",
    "show_image(recon.squeeze(0).cpu(), title=\"Reconstructed Image\")"
   ]
  },
  {
   "cell_type": "code",
   "execution_count": null,
   "id": "d254222f",
   "metadata": {},
   "outputs": [
    {
     "name": "stdout",
     "output_type": "stream",
     "text": [
      "Mean distance to 0: 4.903605937957764\n"
     ]
    }
   ],
   "source": [
    "# z.shape = [batch_size, latent_dim, H, W]\n",
    "latent_mean = torch.mean(z, dim=[0, 2, 3]).item()  # Should be ~0\n",
    "latent_std = torch.std(z, dim=[0, 2, 3]).mean().item()  # Should be ~1\n",
    "latent_l2 = torch.norm(z, p=2, dim=1).mean().item()  # Should be ~√(latent_dim)\n",
    "\n",
    "print(f\"Mean distance to 0: {latent_mean.item()}\")\n",
    "print(f\"Mean std deviation: {latent_std.item()}\")\n",
    "print(f\"Mean L2 norm: {latent_l2.item()}\")"
   ]
  },
  {
   "cell_type": "code",
   "execution_count": 13,
   "id": "25b55be6",
   "metadata": {},
   "outputs": [
    {
     "ename": "TypeError",
     "evalue": "only integer tensors of a single element can be converted to an index",
     "output_type": "error",
     "traceback": [
      "\u001b[1;31m---------------------------------------------------------------------------\u001b[0m",
      "\u001b[1;31mTypeError\u001b[0m                                 Traceback (most recent call last)",
      "Cell \u001b[1;32mIn[13], line 35\u001b[0m\n\u001b[0;32m     33\u001b[0m images \u001b[38;5;241m=\u001b[39m torch\u001b[38;5;241m.\u001b[39mstack(images)\u001b[38;5;241m.\u001b[39mfloat()\u001b[38;5;241m.\u001b[39mto(device) \u001b[38;5;241m/\u001b[39m \u001b[38;5;241m255.0\u001b[39m  \u001b[38;5;66;03m# Normalize and move to device\u001b[39;00m\n\u001b[0;32m     34\u001b[0m images \u001b[38;5;241m=\u001b[39m images\u001b[38;5;241m.\u001b[39mview(images\u001b[38;5;241m.\u001b[39msize(\u001b[38;5;241m0\u001b[39m), \u001b[38;5;241m3\u001b[39m, \u001b[38;5;241m64\u001b[39m, \u001b[38;5;241m64\u001b[39m)  \u001b[38;5;66;03m# Reshape the images to match the input size of the encoder\u001b[39;00m\n\u001b[1;32m---> 35\u001b[0m labels \u001b[38;5;241m=\u001b[39m \u001b[43mtorch\u001b[49m\u001b[38;5;241;43m.\u001b[39;49m\u001b[43mtensor\u001b[49m\u001b[43m(\u001b[49m\u001b[43mlabels\u001b[49m\u001b[43m)\u001b[49m\n\u001b[0;32m     37\u001b[0m plot_latent_space(model\u001b[38;5;241m.\u001b[39mencoder, images, y\u001b[38;5;241m=\u001b[39mlabels, latent_dim\u001b[38;5;241m=\u001b[39mlatent_dim)\n",
      "\u001b[1;31mTypeError\u001b[0m: only integer tensors of a single element can be converted to an index"
     ]
    }
   ],
   "source": [
    "import torch\n",
    "import matplotlib.pyplot as plt\n",
    "import numpy as np\n",
    "from sklearn.decomposition import PCA\n",
    "\n",
    "# Assume `encoder` is your VAE's encoder and `x` is a batch of input data\n",
    "def plot_latent_space(encoder, x, y=None, latent_dim=2):\n",
    "    enc_out = encoder(x)\n",
    "    with torch.no_grad():\n",
    "        if isinstance(enc_out, tuple):\n",
    "            mu, _ = enc_out  # Assuming encoder outputs (mu, logvar)\n",
    "        else:\n",
    "            mu = enc_out[:, :latent_dim]\n",
    "            logvar = enc_out[:, latent_dim:]\n",
    "\n",
    "    mu = mu.detach().cpu().numpy()\n",
    "\n",
    "    if latent_dim > 2:\n",
    "        pca = PCA(n_components=2)\n",
    "        mu = pca.fit_transform(mu)\n",
    "    print(mu)\n",
    "    plt.figure(figsize=(8, 6))\n",
    "    scatter = plt.scatter(mu[:, 0], mu[:, 1], c=y, cmap='viridis', alpha=0.6, edgecolors='k')\n",
    "    plt.colorbar(scatter, label='Class' if y is not None else 'Value')\n",
    "    plt.title('Latent Space Visualization')\n",
    "    plt.xlabel('Latent Dimension 1')\n",
    "    plt.ylabel('Latent Dimension 2')\n",
    "    plt.grid(True)\n",
    "    plt.show()\n",
    "\n",
    "# Example usage:\n",
    "images, labels = zip(*[train[i] for i in range(1000)])\n",
    "images = torch.stack(images).float().to(device) / 255.0  # Normalize and move to device\n",
    "images = images.view(images.size(0), 3, 64, 64)  # Reshape the images to match the input size of the encoder\n",
    "labels = torch.tensor(labels)\n",
    "\n",
    "plot_latent_space(model.encoder, images, y=labels, latent_dim=latent_dim)\n"
   ]
  },
  {
   "cell_type": "code",
   "execution_count": null,
   "id": "5e2699ba",
   "metadata": {},
   "outputs": [],
   "source": []
  },
  {
   "cell_type": "code",
   "execution_count": null,
   "id": "3e5096c2",
   "metadata": {},
   "outputs": [],
   "source": []
  }
 ],
 "metadata": {
  "kernelspec": {
   "display_name": "Python 3",
   "language": "python",
   "name": "python3"
  },
  "language_info": {
   "codemirror_mode": {
    "name": "ipython",
    "version": 3
   },
   "file_extension": ".py",
   "mimetype": "text/x-python",
   "name": "python",
   "nbconvert_exporter": "python",
   "pygments_lexer": "ipython3",
   "version": "3.11.4"
  }
 },
 "nbformat": 4,
 "nbformat_minor": 5
}
