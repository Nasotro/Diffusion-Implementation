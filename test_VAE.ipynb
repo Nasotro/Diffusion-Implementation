{
 "cells": [
  {
   "cell_type": "code",
   "execution_count": null,
   "id": "16683b62",
   "metadata": {},
   "outputs": [],
   "source": [
    "from models.VAE import VAE\n",
    "import torch\n",
    "from data.dataset import MNIST_Dataset, CIFAR10_Dataset, Dataset\n",
    "from utils.utils import show_image\n",
    "import torch\n",
    "import torch.nn as nn\n",
    "\n",
    "\n",
    "cfg = {\n",
    "    \"image_size\": 64,\n",
    "    \"channels\": 3,\n",
    "    \"latent_dim\": 128,\n",
    "    \"dataset\": \"celeba\",\n",
    "    \"batch_size\": 32,\n",
    "    \"num_epochs\": 10,\n",
    "    \"learning_rate\": 1e-3,\n",
    "    \"n_epochs_kl_annealing\": 5,\n",
    "    \"depth\": 3,\n",
    "    \"beta\": 2.0,\n",
    "    \"eval_every\": 1\n",
    "}\n",
    "\n",
    "model_path = f\"vae_{cfg['dataset']}.pth\""
   ]
  },
  {
   "cell_type": "code",
   "execution_count": 2,
   "id": "2dac5063",
   "metadata": {},
   "outputs": [
    {
     "name": "stderr",
     "output_type": "stream",
     "text": [
      "\u001b[34m\u001b[1mwandb\u001b[0m: Currently logged in as: \u001b[33mlorrain-morlet\u001b[0m (\u001b[33mlorrain\u001b[0m) to \u001b[32mhttps://api.wandb.ai\u001b[0m. Use \u001b[1m`wandb login --relogin`\u001b[0m to force relogin\n"
     ]
    },
    {
     "data": {
      "text/html": [],
      "text/plain": [
       "<IPython.core.display.HTML object>"
      ]
     },
     "metadata": {},
     "output_type": "display_data"
    },
    {
     "data": {
      "text/html": [
       "Tracking run with wandb version 0.22.2"
      ],
      "text/plain": [
       "<IPython.core.display.HTML object>"
      ]
     },
     "metadata": {},
     "output_type": "display_data"
    },
    {
     "data": {
      "text/html": [
       "Run data is saved locally in <code>c:\\Users\\lorra\\Documents\\Projets\\AI\\Remake Papers\\Diffusion\\wandb\\run-20251015_111607-0t9mgqdn</code>"
      ],
      "text/plain": [
       "<IPython.core.display.HTML object>"
      ]
     },
     "metadata": {},
     "output_type": "display_data"
    },
    {
     "data": {
      "text/html": [
       "Syncing run <strong><a href='https://wandb.ai/lorrain/Diffusion%20VAE/runs/0t9mgqdn' target=\"_blank\">eternal-spaceship-18</a></strong> to <a href='https://wandb.ai/lorrain/Diffusion%20VAE' target=\"_blank\">Weights & Biases</a> (<a href='https://wandb.me/developer-guide' target=\"_blank\">docs</a>)<br>"
      ],
      "text/plain": [
       "<IPython.core.display.HTML object>"
      ]
     },
     "metadata": {},
     "output_type": "display_data"
    },
    {
     "data": {
      "text/html": [
       " View project at <a href='https://wandb.ai/lorrain/Diffusion%20VAE' target=\"_blank\">https://wandb.ai/lorrain/Diffusion%20VAE</a>"
      ],
      "text/plain": [
       "<IPython.core.display.HTML object>"
      ]
     },
     "metadata": {},
     "output_type": "display_data"
    },
    {
     "data": {
      "text/html": [
       " View run at <a href='https://wandb.ai/lorrain/Diffusion%20VAE/runs/0t9mgqdn' target=\"_blank\">https://wandb.ai/lorrain/Diffusion%20VAE/runs/0t9mgqdn</a>"
      ],
      "text/plain": [
       "<IPython.core.display.HTML object>"
      ]
     },
     "metadata": {},
     "output_type": "display_data"
    }
   ],
   "source": [
    "import wandb\n",
    "\n",
    "run = wandb.init(\n",
    "    entity=\"lorrain\",\n",
    "    project=\"Diffusion VAE\",\n",
    "    config=cfg\n",
    ")"
   ]
  },
  {
   "cell_type": "code",
   "execution_count": null,
   "id": "bec0eb6f",
   "metadata": {},
   "outputs": [
    {
     "name": "stdout",
     "output_type": "stream",
     "text": [
      "VAE(\n",
      "  (encoder): VAEEncoder(\n",
      "    (down_blocks): ModuleList(\n",
      "      (0): DownBlock(\n",
      "        (silu): SiLU()\n",
      "        (convs): ModuleList(\n",
      "          (0): Conv2d(3, 16, kernel_size=(3, 3), stride=(1, 1), padding=(1, 1))\n",
      "          (1): Conv2d(16, 16, kernel_size=(3, 3), stride=(1, 1), padding=(1, 1))\n",
      "        )\n",
      "        (norms): ModuleList(\n",
      "          (0-1): 2 x BatchNorm2d(16, eps=1e-05, momentum=0.1, affine=True, track_running_stats=True)\n",
      "        )\n",
      "        (dropouts): ModuleList(\n",
      "          (0-1): 2 x Dropout(p=0.0, inplace=False)\n",
      "        )\n",
      "        (max_pooling): MaxPool2d(kernel_size=3, stride=2, padding=1, dilation=1, ceil_mode=False)\n",
      "      )\n",
      "      (1): DownBlock(\n",
      "        (silu): SiLU()\n",
      "        (convs): ModuleList(\n",
      "          (0): Conv2d(16, 32, kernel_size=(3, 3), stride=(1, 1), padding=(1, 1))\n",
      "          (1): Conv2d(32, 32, kernel_size=(3, 3), stride=(1, 1), padding=(1, 1))\n",
      "        )\n",
      "        (norms): ModuleList(\n",
      "          (0-1): 2 x BatchNorm2d(32, eps=1e-05, momentum=0.1, affine=True, track_running_stats=True)\n",
      "        )\n",
      "        (dropouts): ModuleList(\n",
      "          (0-1): 2 x Dropout(p=0.0, inplace=False)\n",
      "        )\n",
      "        (max_pooling): MaxPool2d(kernel_size=3, stride=2, padding=1, dilation=1, ceil_mode=False)\n",
      "      )\n",
      "      (2): DownBlock(\n",
      "        (silu): SiLU()\n",
      "        (convs): ModuleList(\n",
      "          (0): Conv2d(32, 64, kernel_size=(3, 3), stride=(1, 1), padding=(1, 1))\n",
      "          (1): Conv2d(64, 64, kernel_size=(3, 3), stride=(1, 1), padding=(1, 1))\n",
      "        )\n",
      "        (norms): ModuleList(\n",
      "          (0-1): 2 x BatchNorm2d(64, eps=1e-05, momentum=0.1, affine=True, track_running_stats=True)\n",
      "        )\n",
      "        (dropouts): ModuleList(\n",
      "          (0-1): 2 x Dropout(p=0.0, inplace=False)\n",
      "        )\n",
      "        (max_pooling): MaxPool2d(kernel_size=3, stride=2, padding=1, dilation=1, ceil_mode=False)\n",
      "      )\n",
      "    )\n",
      "    (bottleneck): VAEBottleneck(\n",
      "      (convs): ModuleList(\n",
      "        (0): Conv2d(64, 128, kernel_size=(3, 3), stride=(1, 1), padding=(1, 1))\n",
      "        (1): Conv2d(128, 128, kernel_size=(3, 3), stride=(1, 1), padding=(1, 1))\n",
      "      )\n",
      "      (norms): ModuleList(\n",
      "        (0-1): 2 x BatchNorm2d(128, eps=1e-05, momentum=0.1, affine=True, track_running_stats=True)\n",
      "      )\n",
      "      (dropouts): ModuleList(\n",
      "        (0-1): 2 x Dropout(p=0.0, inplace=False)\n",
      "      )\n",
      "      (silu): SiLU()\n",
      "    )\n",
      "    (fc_mu): Conv2d(128, 64, kernel_size=(1, 1), stride=(1, 1))\n",
      "    (fc_logvar): Conv2d(128, 64, kernel_size=(1, 1), stride=(1, 1))\n",
      "  )\n",
      "  (decoder): VAEDecoder(\n",
      "    (up_blocks): ModuleList(\n",
      "      (0): UpBlock(\n",
      "        (silu): SiLU()\n",
      "        (convs): ModuleList(\n",
      "          (0): Conv2d(64, 32, kernel_size=(3, 3), stride=(1, 1), padding=(1, 1))\n",
      "          (1): Conv2d(32, 32, kernel_size=(3, 3), stride=(1, 1), padding=(1, 1))\n",
      "        )\n",
      "        (norms): ModuleList(\n",
      "          (0-1): 2 x BatchNorm2d(32, eps=1e-05, momentum=0.1, affine=True, track_running_stats=True)\n",
      "        )\n",
      "        (dropouts): ModuleList(\n",
      "          (0-1): 2 x Dropout(p=0.0, inplace=False)\n",
      "        )\n",
      "        (up_conv): ConvTranspose2d(32, 32, kernel_size=(2, 2), stride=(2, 2))\n",
      "      )\n",
      "      (1): UpBlock(\n",
      "        (silu): SiLU()\n",
      "        (convs): ModuleList(\n",
      "          (0): Conv2d(32, 16, kernel_size=(3, 3), stride=(1, 1), padding=(1, 1))\n",
      "          (1): Conv2d(16, 16, kernel_size=(3, 3), stride=(1, 1), padding=(1, 1))\n",
      "        )\n",
      "        (norms): ModuleList(\n",
      "          (0-1): 2 x BatchNorm2d(16, eps=1e-05, momentum=0.1, affine=True, track_running_stats=True)\n",
      "        )\n",
      "        (dropouts): ModuleList(\n",
      "          (0-1): 2 x Dropout(p=0.0, inplace=False)\n",
      "        )\n",
      "        (up_conv): ConvTranspose2d(16, 16, kernel_size=(2, 2), stride=(2, 2))\n",
      "      )\n",
      "      (2): UpBlock(\n",
      "        (silu): SiLU()\n",
      "        (convs): ModuleList(\n",
      "          (0): Conv2d(16, 8, kernel_size=(3, 3), stride=(1, 1), padding=(1, 1))\n",
      "          (1): Conv2d(8, 8, kernel_size=(3, 3), stride=(1, 1), padding=(1, 1))\n",
      "        )\n",
      "        (norms): ModuleList(\n",
      "          (0-1): 2 x BatchNorm2d(8, eps=1e-05, momentum=0.1, affine=True, track_running_stats=True)\n",
      "        )\n",
      "        (dropouts): ModuleList(\n",
      "          (0-1): 2 x Dropout(p=0.0, inplace=False)\n",
      "        )\n",
      "        (up_conv): ConvTranspose2d(8, 8, kernel_size=(2, 2), stride=(2, 2))\n",
      "      )\n",
      "    )\n",
      "    (final_conv): Conv2d(8, 3, kernel_size=(1, 1), stride=(1, 1))\n",
      "  )\n",
      ")\n"
     ]
    },
    {
     "ename": "",
     "evalue": "",
     "output_type": "error",
     "traceback": [
      "\u001b[1;31mThe Kernel crashed while executing code in the current cell or a previous cell. \n",
      "\u001b[1;31mPlease review the code in the cell(s) to identify a possible cause of the failure. \n",
      "\u001b[1;31mClick <a href='https://aka.ms/vscodeJupyterKernelCrash'>here</a> for more info. \n",
      "\u001b[1;31mView Jupyter <a href='command:jupyter.viewOutput'>log</a> for further details."
     ]
    }
   ],
   "source": [
    "latent_dim = cfg['latent_dim']\n",
    "c = cfg['channels']\n",
    "depth = cfg['depth']\n",
    "\n",
    "model = VAE(latent_dim=latent_dim, initial_channels=c, depth=depth)\n",
    "\n",
    "device = 'cuda' if torch.cuda.is_available() else 'cpu'\n",
    "model = model.to(device)\n",
    "print(model)"
   ]
  },
  {
   "cell_type": "code",
   "execution_count": null,
   "id": "891122dc",
   "metadata": {},
   "outputs": [
    {
     "name": "stdout",
     "output_type": "stream",
     "text": [
      "VAE input shape: torch.Size([1, 3, 64, 64])\n",
      "Encoder input shape: torch.Size([1, 3, 64, 64])\n",
      "Encoder down block 0, input shape: torch.Size([1, 3, 64, 64])\n",
      "DownBlock input shape: torch.Size([1, 3, 64, 64])\n"
     ]
    }
   ],
   "source": [
    "# test with a random tensor\n",
    "x = torch.randn(1, 3, 64, 64).to(device)\n",
    "x, mu, logvar, z = model(x, verbose=1)\n",
    "\n",
    "print(x.shape, mu.shape, logvar.shape, z.shape)"
   ]
  },
  {
   "cell_type": "markdown",
   "id": "25bb5d5b",
   "metadata": {},
   "source": [
    "Latent space representation: [B, 64, 8, 8]"
   ]
  },
  {
   "cell_type": "code",
   "execution_count": null,
   "id": "2b1cace3",
   "metadata": {},
   "outputs": [
    {
     "data": {
      "image/png": "[encoded data removed]",
      "text/plain": [
       "<Figure size 640x480 with 1 Axes>"
      ]
     },
     "metadata": {},
     "output_type": "display_data"
    }
   ],
   "source": [
    "latent_shape = (1, latent_dim, 8, 8)\n",
    "\n",
    "def generate_images(model, num_images=5):\n",
    "    model.eval()\n",
    "    with torch.no_grad():\n",
    "        for _ in range(num_images):\n",
    "            z = torch.randn(latent_shape).to(device)\n",
    "            recon_img = model.decode(z)\n",
    "            show_image(recon_img.squeeze(0).cpu(), title=\"Generated Image\", unnormalize=True)\n",
    "\n",
    "generate_images(model, num_images=1)"
   ]
  },
  {
   "cell_type": "code",
   "execution_count": null,
   "id": "57ccb9e0",
   "metadata": {},
   "outputs": [
    {
     "name": "stdout",
     "output_type": "stream",
     "text": [
      "Files already downloaded and verified\n",
      "torch.Size([3, 64, 64])\n"
     ]
    },
    {
     "data": {
      "image/png": "[encoded data removed]",
      "text/plain": [
       "<Figure size 640x480 with 1 Axes>"
      ]
     },
     "metadata": {},
     "output_type": "display_data"
    },
    {
     "name": "stdout",
     "output_type": "stream",
     "text": [
      "Files already downloaded and verified\n",
      "torch.Size([3, 64, 64])\n"
     ]
    },
    {
     "data": {
      "image/png": "[encoded data removed]",
      "text/plain": [
       "<Figure size 640x480 with 1 Axes>"
      ]
     },
     "metadata": {},
     "output_type": "display_data"
    }
   ],
   "source": [
    "import torch.nn as nn\n",
    "from torchvision import transforms\n",
    "\n",
    "img_size = cfg['image_size']\n",
    "c = cfg['channels']\n",
    "transform = transforms.Compose([\n",
    "    transforms.Resize((img_size, img_size)),\n",
    "    transforms.ToTensor(),\n",
    "    # transforms.Normalize((0.5,), (0.5,))\n",
    "])\n",
    "\n",
    "# train = CIFAR10_Dataset(split='train', transform=transform)\n",
    "# train = MNIST_Dataset(split='train', transform=transform)\n",
    "\n",
    "train = Dataset('CELEBA', split='train', transform=transform)\n",
    "print(train[0][0].shape)\n",
    "show_image(train[0][0], title=train[0][1])\n",
    "\n",
    "test = Dataset('CELEBA', split='test', transform=transform)\n",
    "print(test[0][0].shape)\n",
    "show_image(test[0][0], title=test[0][1])"
   ]
  },
  {
   "cell_type": "code",
   "execution_count": null,
   "id": "b6af68aa",
   "metadata": {},
   "outputs": [],
   "source": [
    "from torch.utils.data import DataLoader\n",
    "from tqdm import tqdm\n",
    "\n",
    "train_loader = DataLoader(train, batch_size=cfg['batch_size'], shuffle=True, num_workers=2)\n",
    "test_loader = DataLoader(test, batch_size=cfg['batch_size'], shuffle=False, num_workers=2)\n",
    "optimizer = torch.optim.AdamW(model.parameters(), lr=cfg['learning_rate'])\n",
    "scheduler = torch.optim.lr_scheduler.CosineAnnealingWarmRestarts(optimizer, T_0=10, T_mult=1.5, eta_min=1e-5)\n",
    "# scheduler = torch.optim.lr_scheduler.StepLR(optimizer, step_size=2, gamma=0.95)\n"
   ]
  },
  {
   "cell_type": "code",
   "execution_count": null,
   "id": "3ce81d41",
   "metadata": {},
   "outputs": [],
   "source": [
    "def vae_loss(recon_x, x, mu, logvar, beta=1.0, epoch=0, max_anneal_epochs=10):\n",
    "    # print(recon_x.shape, x.shape)\n",
    "    # print(\"recon_x min/max:\", recon_x.min().item(), recon_x.max().item())\n",
    "    # print(\"x min/max:\", x.min().item(), x.max().item())\n",
    "    recon_loss = nn.functional.mse_loss(recon_x, x, reduction='mean')\n",
    "    kl_loss = -0.5 * torch.mean(1 + logvar - mu.pow(2) - logvar.exp())\n",
    "    # print(\"recon_loss:\", recon_loss.item(), \"kl_loss:\", kl_loss.item())\n",
    "    if epoch < max_anneal_epochs:\n",
    "        beta = beta * epoch / max_anneal_epochs\n",
    "    total_loss = recon_loss + beta * kl_loss\n",
    "    return total_loss, recon_loss, kl_loss\n"
   ]
  },
  {
   "cell_type": "code",
   "execution_count": null,
   "id": "c0bcae4f",
   "metadata": {},
   "outputs": [],
   "source": [
    "def evaluate(model, dataloader):\n",
    "    model.eval()\n",
    "    total_loss = 0\n",
    "    recon_loss_total = 0\n",
    "    kl_loss_total = 0\n",
    "    with torch.no_grad():\n",
    "        for x, _ in tqdm(dataloader, desc=\"Evaluating\", leave=False):\n",
    "            x = x.to(device)\n",
    "            recon_x, mu, logvar, _ = model(x)\n",
    "            loss, recon_loss, kl_loss = vae_loss(recon_x, x, mu, logvar, beta=cfg['beta'])\n",
    "            total_loss += loss.item() * x.size(0)\n",
    "            recon_loss_total += recon_loss.item() * x.size(0)\n",
    "            kl_loss_total += kl_loss.item() * x.size(0)\n",
    "    avg_loss = total_loss / len(dataloader.dataset)\n",
    "    avg_recon_loss = recon_loss_total / len(dataloader.dataset)\n",
    "    avg_kl_loss = kl_loss_total / len(dataloader.dataset)\n",
    "    return avg_loss, avg_recon_loss, avg_kl_loss"
   ]
  },
  {
   "cell_type": "code",
   "execution_count": null,
   "id": "83b69b53",
   "metadata": {},
   "outputs": [
    {
     "name": "stderr",
     "output_type": "stream",
     "text": [
      "                                                                                                               \r"
     ]
    },
    {
     "name": "stdout",
     "output_type": "stream",
     "text": [
      "Epoch 1/50, Loss: 0.0077, recon_loss: 0.0048, kl_loss: 5.8336, lr: 0.001000\n"
     ]
    },
    {
     "name": "stderr",
     "output_type": "stream",
     "text": [
      "                                                                                                               \r"
     ]
    },
    {
     "name": "stdout",
     "output_type": "stream",
     "text": [
      "Epoch 2/50, Loss: 0.0303, recon_loss: 0.0157, kl_loss: 0.0191, lr: 0.001000\n"
     ]
    },
    {
     "name": "stderr",
     "output_type": "stream",
     "text": [
      "                                                                                                               \r"
     ]
    },
    {
     "name": "stdout",
     "output_type": "stream",
     "text": [
      "Epoch 3/50, Loss: 0.0279, recon_loss: 0.0174, kl_loss: 0.0123, lr: 0.000950\n"
     ]
    },
    {
     "name": "stderr",
     "output_type": "stream",
     "text": [
      "                                                                                                                \r"
     ]
    },
    {
     "name": "stdout",
     "output_type": "stream",
     "text": [
      "Epoch 4/50, Loss: 0.0315, recon_loss: 0.0185, kl_loss: 0.0094, lr: 0.000950\n"
     ]
    },
    {
     "name": "stderr",
     "output_type": "stream",
     "text": [
      "                                                                                                                \r"
     ]
    },
    {
     "name": "stdout",
     "output_type": "stream",
     "text": [
      "Epoch 5/50, Loss: 0.0345, recon_loss: 0.0239, kl_loss: 0.0080, lr: 0.000902\n"
     ]
    },
    {
     "name": "stderr",
     "output_type": "stream",
     "text": [
      "                                                                                                                \r"
     ]
    },
    {
     "name": "stdout",
     "output_type": "stream",
     "text": [
      "Epoch 6/50, Loss: 0.0369, recon_loss: 0.0291, kl_loss: 0.0062, lr: 0.000902\n"
     ]
    },
    {
     "name": "stderr",
     "output_type": "stream",
     "text": [
      "                                                                                                                \r"
     ]
    },
    {
     "name": "stdout",
     "output_type": "stream",
     "text": [
      "Epoch 7/50, Loss: 0.0366, recon_loss: 0.0261, kl_loss: 0.0060, lr: 0.000857\n"
     ]
    },
    {
     "name": "stderr",
     "output_type": "stream",
     "text": [
      "                                                                                                                \r"
     ]
    },
    {
     "name": "stdout",
     "output_type": "stream",
     "text": [
      "Epoch 8/50, Loss: 0.0363, recon_loss: 0.0222, kl_loss: 0.0057, lr: 0.000857\n"
     ]
    },
    {
     "name": "stderr",
     "output_type": "stream",
     "text": [
      "                                                                                                                \r"
     ]
    },
    {
     "name": "stdout",
     "output_type": "stream",
     "text": [
      "Epoch 9/50, Loss: 0.0358, recon_loss: 0.0256, kl_loss: 0.0057, lr: 0.000815\n"
     ]
    },
    {
     "name": "stderr",
     "output_type": "stream",
     "text": [
      "                                                                                                                 \r"
     ]
    },
    {
     "name": "stdout",
     "output_type": "stream",
     "text": [
      "Epoch 10/50, Loss: 0.0354, recon_loss: 0.0244, kl_loss: 0.0057, lr: 0.000815\n"
     ]
    },
    {
     "name": "stderr",
     "output_type": "stream",
     "text": [
      "                                                                                                                 \r"
     ]
    },
    {
     "name": "stdout",
     "output_type": "stream",
     "text": [
      "Epoch 11/50, Loss: 0.0349, recon_loss: 0.0289, kl_loss: 0.0056, lr: 0.000774\n"
     ]
    },
    {
     "name": "stderr",
     "output_type": "stream",
     "text": [
      "                                                                                                                 \r"
     ]
    },
    {
     "name": "stdout",
     "output_type": "stream",
     "text": [
      "Epoch 12/50, Loss: 0.0346, recon_loss: 0.0258, kl_loss: 0.0056, lr: 0.000774\n"
     ]
    },
    {
     "name": "stderr",
     "output_type": "stream",
     "text": [
      "                                                                                                                 \r"
     ]
    },
    {
     "name": "stdout",
     "output_type": "stream",
     "text": [
      "Epoch 13/50, Loss: 0.0343, recon_loss: 0.0245, kl_loss: 0.0055, lr: 0.000735\n"
     ]
    },
    {
     "name": "stderr",
     "output_type": "stream",
     "text": [
      "                                                                                                                 \r"
     ]
    },
    {
     "name": "stdout",
     "output_type": "stream",
     "text": [
      "Epoch 14/50, Loss: 0.0341, recon_loss: 0.0222, kl_loss: 0.0055, lr: 0.000735\n"
     ]
    },
    {
     "name": "stderr",
     "output_type": "stream",
     "text": [
      "                                                                                                                 \r"
     ]
    },
    {
     "name": "stdout",
     "output_type": "stream",
     "text": [
      "Epoch 15/50, Loss: 0.0339, recon_loss: 0.0197, kl_loss: 0.0053, lr: 0.000698\n"
     ]
    },
    {
     "name": "stderr",
     "output_type": "stream",
     "text": [
      "                                                                                                                 \r"
     ]
    },
    {
     "name": "stdout",
     "output_type": "stream",
     "text": [
      "Epoch 16/50, Loss: 0.0338, recon_loss: 0.0231, kl_loss: 0.0055, lr: 0.000698\n"
     ]
    },
    {
     "name": "stderr",
     "output_type": "stream",
     "text": [
      "                                                                                                                 \r"
     ]
    },
    {
     "name": "stdout",
     "output_type": "stream",
     "text": [
      "Epoch 17/50, Loss: 0.0336, recon_loss: 0.0202, kl_loss: 0.0052, lr: 0.000663\n"
     ]
    },
    {
     "name": "stderr",
     "output_type": "stream",
     "text": [
      "                                                                                                                 \r"
     ]
    },
    {
     "name": "stdout",
     "output_type": "stream",
     "text": [
      "Epoch 18/50, Loss: 0.0336, recon_loss: 0.0225, kl_loss: 0.0053, lr: 0.000663\n"
     ]
    },
    {
     "name": "stderr",
     "output_type": "stream",
     "text": [
      "                                                                                                                 \r"
     ]
    },
    {
     "name": "stdout",
     "output_type": "stream",
     "text": [
      "Epoch 19/50, Loss: 0.0335, recon_loss: 0.0252, kl_loss: 0.0053, lr: 0.000630\n"
     ]
    },
    {
     "name": "stderr",
     "output_type": "stream",
     "text": [
      "                                                                                                                 \r"
     ]
    },
    {
     "name": "stdout",
     "output_type": "stream",
     "text": [
      "Epoch 20/50, Loss: 0.0334, recon_loss: 0.0204, kl_loss: 0.0054, lr: 0.000630\n"
     ]
    },
    {
     "name": "stderr",
     "output_type": "stream",
     "text": [
      "                                                                                                                 \r"
     ]
    },
    {
     "name": "stdout",
     "output_type": "stream",
     "text": [
      "Epoch 21/50, Loss: 0.0333, recon_loss: 0.0253, kl_loss: 0.0054, lr: 0.000599\n"
     ]
    },
    {
     "name": "stderr",
     "output_type": "stream",
     "text": [
      "                                                                                                                 \r"
     ]
    },
    {
     "name": "stdout",
     "output_type": "stream",
     "text": [
      "Epoch 22/50, Loss: 0.0333, recon_loss: 0.0238, kl_loss: 0.0053, lr: 0.000599\n"
     ]
    },
    {
     "name": "stderr",
     "output_type": "stream",
     "text": [
      "                                                                                                                 \r"
     ]
    },
    {
     "name": "stdout",
     "output_type": "stream",
     "text": [
      "Epoch 23/50, Loss: 0.0332, recon_loss: 0.0207, kl_loss: 0.0049, lr: 0.000569\n"
     ]
    },
    {
     "name": "stderr",
     "output_type": "stream",
     "text": [
      "                                                                                                                 \r"
     ]
    },
    {
     "name": "stdout",
     "output_type": "stream",
     "text": [
      "Epoch 24/50, Loss: 0.0332, recon_loss: 0.0234, kl_loss: 0.0055, lr: 0.000569\n"
     ]
    },
    {
     "name": "stderr",
     "output_type": "stream",
     "text": [
      "                                                                                                                 \r"
     ]
    },
    {
     "name": "stdout",
     "output_type": "stream",
     "text": [
      "Epoch 25/50, Loss: 0.0331, recon_loss: 0.0228, kl_loss: 0.0051, lr: 0.000540\n"
     ]
    },
    {
     "name": "stderr",
     "output_type": "stream",
     "text": [
      "                                                                                                                 \r"
     ]
    },
    {
     "name": "stdout",
     "output_type": "stream",
     "text": [
      "Epoch 26/50, Loss: 0.0331, recon_loss: 0.0204, kl_loss: 0.0051, lr: 0.000540\n"
     ]
    },
    {
     "name": "stderr",
     "output_type": "stream",
     "text": [
      "                                                                                                                 \r"
     ]
    },
    {
     "name": "stdout",
     "output_type": "stream",
     "text": [
      "Epoch 27/50, Loss: 0.0330, recon_loss: 0.0211, kl_loss: 0.0053, lr: 0.000513\n"
     ]
    },
    {
     "name": "stderr",
     "output_type": "stream",
     "text": [
      "                                                                                                                 \r"
     ]
    },
    {
     "name": "stdout",
     "output_type": "stream",
     "text": [
      "Epoch 28/50, Loss: 0.0330, recon_loss: 0.0276, kl_loss: 0.0054, lr: 0.000513\n"
     ]
    },
    {
     "name": "stderr",
     "output_type": "stream",
     "text": [
      "                                                                                                                 \r"
     ]
    },
    {
     "name": "stdout",
     "output_type": "stream",
     "text": [
      "Epoch 29/50, Loss: 0.0329, recon_loss: 0.0220, kl_loss: 0.0049, lr: 0.000488\n"
     ]
    },
    {
     "name": "stderr",
     "output_type": "stream",
     "text": [
      "                                                                                                                 \r"
     ]
    },
    {
     "name": "stdout",
     "output_type": "stream",
     "text": [
      "Epoch 30/50, Loss: 0.0329, recon_loss: 0.0204, kl_loss: 0.0052, lr: 0.000488\n"
     ]
    },
    {
     "name": "stderr",
     "output_type": "stream",
     "text": [
      "                                                                                                                 \r"
     ]
    },
    {
     "name": "stdout",
     "output_type": "stream",
     "text": [
      "Epoch 31/50, Loss: 0.0328, recon_loss: 0.0230, kl_loss: 0.0052, lr: 0.000463\n"
     ]
    },
    {
     "name": "stderr",
     "output_type": "stream",
     "text": [
      "                                                                                                                 \r"
     ]
    },
    {
     "name": "stdout",
     "output_type": "stream",
     "text": [
      "Epoch 32/50, Loss: 0.0328, recon_loss: 0.0205, kl_loss: 0.0050, lr: 0.000463\n"
     ]
    },
    {
     "name": "stderr",
     "output_type": "stream",
     "text": [
      "                                                                                                                 \r"
     ]
    },
    {
     "name": "stdout",
     "output_type": "stream",
     "text": [
      "Epoch 33/50, Loss: 0.0328, recon_loss: 0.0257, kl_loss: 0.0052, lr: 0.000440\n"
     ]
    },
    {
     "name": "stderr",
     "output_type": "stream",
     "text": [
      "                                                                                                                 \r"
     ]
    },
    {
     "name": "stdout",
     "output_type": "stream",
     "text": [
      "Epoch 34/50, Loss: 0.0327, recon_loss: 0.0213, kl_loss: 0.0051, lr: 0.000440\n"
     ]
    },
    {
     "name": "stderr",
     "output_type": "stream",
     "text": [
      "                                                                                                                 \r"
     ]
    },
    {
     "name": "stdout",
     "output_type": "stream",
     "text": [
      "Epoch 35/50, Loss: 0.0327, recon_loss: 0.0226, kl_loss: 0.0050, lr: 0.000418\n"
     ]
    },
    {
     "name": "stderr",
     "output_type": "stream",
     "text": [
      "                                                                                                                 \r"
     ]
    },
    {
     "name": "stdout",
     "output_type": "stream",
     "text": [
      "Epoch 36/50, Loss: 0.0327, recon_loss: 0.0231, kl_loss: 0.0052, lr: 0.000418\n"
     ]
    },
    {
     "name": "stderr",
     "output_type": "stream",
     "text": [
      "                                                                                                                 \r"
     ]
    },
    {
     "name": "stdout",
     "output_type": "stream",
     "text": [
      "Epoch 37/50, Loss: 0.0326, recon_loss: 0.0229, kl_loss: 0.0053, lr: 0.000397\n"
     ]
    },
    {
     "name": "stderr",
     "output_type": "stream",
     "text": [
      "                                                                                                                 \r"
     ]
    },
    {
     "name": "stdout",
     "output_type": "stream",
     "text": [
      "Epoch 38/50, Loss: 0.0326, recon_loss: 0.0212, kl_loss: 0.0052, lr: 0.000397\n"
     ]
    },
    {
     "name": "stderr",
     "output_type": "stream",
     "text": [
      "                                                                                                                 \r"
     ]
    },
    {
     "name": "stdout",
     "output_type": "stream",
     "text": [
      "Epoch 39/50, Loss: 0.0326, recon_loss: 0.0262, kl_loss: 0.0053, lr: 0.000377\n"
     ]
    },
    {
     "name": "stderr",
     "output_type": "stream",
     "text": [
      "                                                                                                                 \r"
     ]
    },
    {
     "name": "stdout",
     "output_type": "stream",
     "text": [
      "Epoch 40/50, Loss: 0.0326, recon_loss: 0.0219, kl_loss: 0.0052, lr: 0.000377\n"
     ]
    },
    {
     "name": "stderr",
     "output_type": "stream",
     "text": [
      "                                                                                                                 \r"
     ]
    },
    {
     "name": "stdout",
     "output_type": "stream",
     "text": [
      "Epoch 41/50, Loss: 0.0325, recon_loss: 0.0205, kl_loss: 0.0048, lr: 0.000358\n"
     ]
    },
    {
     "name": "stderr",
     "output_type": "stream",
     "text": [
      "                                                                                                                 \r"
     ]
    },
    {
     "name": "stdout",
     "output_type": "stream",
     "text": [
      "Epoch 42/50, Loss: 0.0325, recon_loss: 0.0215, kl_loss: 0.0049, lr: 0.000358\n"
     ]
    },
    {
     "name": "stderr",
     "output_type": "stream",
     "text": [
      "                                                                                                                 \r"
     ]
    },
    {
     "name": "stdout",
     "output_type": "stream",
     "text": [
      "Epoch 43/50, Loss: 0.0325, recon_loss: 0.0250, kl_loss: 0.0051, lr: 0.000341\n"
     ]
    },
    {
     "name": "stderr",
     "output_type": "stream",
     "text": [
      "                                                                                                                 \r"
     ]
    },
    {
     "name": "stdout",
     "output_type": "stream",
     "text": [
      "Epoch 44/50, Loss: 0.0325, recon_loss: 0.0202, kl_loss: 0.0051, lr: 0.000341\n"
     ]
    },
    {
     "name": "stderr",
     "output_type": "stream",
     "text": [
      "                                                                                                                 \r"
     ]
    },
    {
     "name": "stdout",
     "output_type": "stream",
     "text": [
      "Epoch 45/50, Loss: 0.0324, recon_loss: 0.0214, kl_loss: 0.0051, lr: 0.000324\n"
     ]
    },
    {
     "name": "stderr",
     "output_type": "stream",
     "text": [
      "                                                                                                                 \r"
     ]
    },
    {
     "name": "stdout",
     "output_type": "stream",
     "text": [
      "Epoch 46/50, Loss: 0.0324, recon_loss: 0.0214, kl_loss: 0.0052, lr: 0.000324\n"
     ]
    },
    {
     "name": "stderr",
     "output_type": "stream",
     "text": [
      "                                                                                                                 \r"
     ]
    },
    {
     "name": "stdout",
     "output_type": "stream",
     "text": [
      "Epoch 47/50, Loss: 0.0324, recon_loss: 0.0254, kl_loss: 0.0050, lr: 0.000307\n"
     ]
    },
    {
     "name": "stderr",
     "output_type": "stream",
     "text": [
      "                                                                                                                 \r"
     ]
    },
    {
     "name": "stdout",
     "output_type": "stream",
     "text": [
      "Epoch 48/50, Loss: 0.0324, recon_loss: 0.0247, kl_loss: 0.0051, lr: 0.000307\n"
     ]
    },
    {
     "name": "stderr",
     "output_type": "stream",
     "text": [
      "                                                                                                                 \r"
     ]
    },
    {
     "name": "stdout",
     "output_type": "stream",
     "text": [
      "Epoch 49/50, Loss: 0.0324, recon_loss: 0.0249, kl_loss: 0.0053, lr: 0.000292\n"
     ]
    },
    {
     "name": "stderr",
     "output_type": "stream",
     "text": [
      "                                                                                                                 "
     ]
    },
    {
     "name": "stdout",
     "output_type": "stream",
     "text": [
      "Epoch 50/50, Loss: 0.0324, recon_loss: 0.0210, kl_loss: 0.0050, lr: 0.000292\n"
     ]
    },
    {
     "name": "stderr",
     "output_type": "stream",
     "text": [
      "\r"
     ]
    }
   ],
   "source": [
    "def train_vae(model, train_loader,optimizer, epochs=20):\n",
    "    best_val_loss = float('inf')\n",
    "    for epoch in range(epochs):\n",
    "        model.train()\n",
    "        epoch_loss = 0\n",
    "        progress_bar = tqdm(train_loader, desc=f\"Epoch {epoch+1}/{epochs}\", leave=False)\n",
    "        for images, _ in progress_bar:\n",
    "            # print(images.shape)\n",
    "            images = images.to(device)\n",
    "            recon, mu, logvar, z = model(images)\n",
    "\n",
    "            loss, recon_loss, kl_loss = vae_loss(recon, images, mu, logvar, beta=cfg['beta'], epoch=epoch, max_anneal_epochs=cfg['n_epochs_kl_annealing'])\n",
    "            # show_image(images[0], title=f\"Input Image, loss : {loss.item():.4f}\")\n",
    "            # show_image(recon[0], title=f\"Reconstructed Image, loss : {loss.item():.4f}\")\n",
    "            optimizer.zero_grad()\n",
    "            loss.backward()\n",
    "            optimizer.step()\n",
    "\n",
    "            epoch_loss += loss.item()\n",
    "            \n",
    "            wandb.log({\n",
    "                \"batch/total_loss\": loss.item(),\n",
    "                \"batch/recon_loss\": recon_loss.item(),\n",
    "                \"batch/kl_loss\": kl_loss.item(),\n",
    "                \"batch/lr\": scheduler.get_last_lr()[0]\n",
    "            })\n",
    "\n",
    "        # Calculate average loss for the epoch\n",
    "        avg_epoch_loss = epoch_loss / len(train_loader)\n",
    "\n",
    "        # Log epoch-level metrics to wandb\n",
    "        wandb.log({\n",
    "            \"epoch/total_loss\": avg_epoch_loss,\n",
    "            \"epoch/recon_loss\": recon_loss.item(),\n",
    "            \"epoch/kl_loss\": kl_loss.item(),\n",
    "            \"epoch/lr\": scheduler.get_last_lr()[0]\n",
    "        })\n",
    "        \n",
    "        if cfg['eval_every'] > 0 and (epoch + 1) % cfg['eval_every'] == 0:\n",
    "            val_loss, val_recon_loss, val_kl_loss = evaluate(model, test_loader)\n",
    "            wandb.log({\n",
    "                \"val/total_loss\": val_loss,\n",
    "                \"val/recon_loss\": val_recon_loss,\n",
    "                \"val/kl_loss\": val_kl_loss\n",
    "            })\n",
    "            progress_bar.set_postfix(loss=avg_epoch_loss, val_loss=val_loss, val_recon_loss=val_recon_loss, val_kl_loss=val_kl_loss)\n",
    "            print(f\"Epoch {epoch+1}/{epochs}, : Validation - Loss: {val_loss:.4f}, recon_loss: {val_recon_loss:.4f}, kl_loss: {val_kl_loss:.4f}\\n Train - Loss: {avg_epoch_loss:.4f}, recon_loss: {recon_loss.item():.4f}, kl_loss: {kl_loss.item():.4f}, lr: {scheduler.get_last_lr()[0]:.6f}\")\n",
    "\n",
    "            if val_loss < best_val_loss:\n",
    "                best_val_loss = val_loss\n",
    "                model_best = model.state_dict()\n",
    "                torch.save(model_best, model_path)\n",
    "            \n",
    "        if epoch % 2 == 0:\n",
    "            wandb.log({\n",
    "                \"input_image\": wandb.Image(images[0].cpu()),\n",
    "                \"reconstructed_image\": wandb.Image(recon[0].cpu())\n",
    "            })\n",
    "            \n",
    "            # break\n",
    "        # print(f\"Epoch {epoch+1}/{epochs}, Loss: {avg_epoch_loss:.4f}, recon_loss: {recon_loss.item():.4f}, kl_loss: {kl_loss.item():.4f}, lr: {scheduler.get_last_lr()[0]:.6f}\")\n",
    "        scheduler.step()\n",
    "        \n",
    "    return model_best\n",
    "\n",
    "model_best = train_vae(model, train_loader, optimizer, epochs=50)\n"
   ]
  },
  {
   "cell_type": "code",
   "execution_count": null,
   "id": "cd4d3e1a",
   "metadata": {},
   "outputs": [],
   "source": [
    "# model.load_state_dict(torch.load(model_path))\n",
    "# model.eval()"
   ]
  },
  {
   "cell_type": "code",
   "execution_count": null,
   "id": "0edbac1d",
   "metadata": {},
   "outputs": [
    {
     "data": {
      "image/png": "[encoded data removed]",
      "text/plain": [
       "<Figure size 640x480 with 1 Axes>"
      ]
     },
     "metadata": {},
     "output_type": "display_data"
    },
    {
     "data": {
      "image/png": "[encoded data removed]",
      "text/plain": [
       "<Figure size 640x480 with 1 Axes>"
      ]
     },
     "metadata": {},
     "output_type": "display_data"
    }
   ],
   "source": [
    "generate_images(model, num_images=2)"
   ]
  },
  {
   "cell_type": "code",
   "execution_count": null,
   "id": "0509f872",
   "metadata": {},
   "outputs": [
    {
     "ename": "ValueError",
     "evalue": "not enough values to unpack (expected 4, got 3)",
     "output_type": "error",
     "traceback": [
      "\u001b[1;31m---------------------------------------------------------------------------\u001b[0m",
      "\u001b[1;31mValueError\u001b[0m                                Traceback (most recent call last)",
      "Cell \u001b[1;32mIn[14], line 2\u001b[0m\n\u001b[0;32m      1\u001b[0m img \u001b[38;5;241m=\u001b[39m train[\u001b[38;5;241m5\u001b[39m][\u001b[38;5;241m0\u001b[39m]\u001b[38;5;241m.\u001b[39munsqueeze(\u001b[38;5;241m0\u001b[39m)\u001b[38;5;241m.\u001b[39mto(device)\n\u001b[1;32m----> 2\u001b[0m recon, mu, logvar, z \u001b[38;5;241m=\u001b[39m model(img)\n\u001b[0;32m      3\u001b[0m \u001b[38;5;28mprint\u001b[39m(torch\u001b[38;5;241m.\u001b[39mmean((img \u001b[38;5;241m-\u001b[39m recon) \u001b[38;5;241m*\u001b[39m\u001b[38;5;241m*\u001b[39m \u001b[38;5;241m2\u001b[39m)\u001b[38;5;241m.\u001b[39mitem())\n\u001b[0;32m      4\u001b[0m show_image(img\u001b[38;5;241m.\u001b[39msqueeze(\u001b[38;5;241m0\u001b[39m)\u001b[38;5;241m.\u001b[39mcpu(), title\u001b[38;5;241m=\u001b[39m\u001b[38;5;124m\"\u001b[39m\u001b[38;5;124mOriginal Image\u001b[39m\u001b[38;5;124m\"\u001b[39m)\n",
      "\u001b[1;31mValueError\u001b[0m: not enough values to unpack (expected 4, got 3)"
     ]
    }
   ],
   "source": [
    "img = train[5][0].unsqueeze(0).to(device)\n",
    "recon, mu, logvar, z = model(img)\n",
    "print(torch.mean((img - recon) ** 2).item())\n",
    "show_image(img.squeeze(0).cpu(), title=\"Original Image\")\n",
    "show_image(recon.squeeze(0).cpu(), title=\"Reconstructed Image\")"
   ]
  },
  {
   "cell_type": "code",
   "execution_count": null,
   "id": "d254222f",
   "metadata": {},
   "outputs": [
    {
     "name": "stdout",
     "output_type": "stream",
     "text": [
      "Mean distance to 0: 4.903605937957764\n"
     ]
    }
   ],
   "source": [
    "# z.shape = [batch_size, latent_dim, H, W]\n",
    "latent_mean = torch.mean(z, dim=[0, 2, 3]).item()  # Should be ~0\n",
    "latent_std = torch.std(z, dim=[0, 2, 3]).mean().item()  # Should be ~1\n",
    "latent_l2 = torch.norm(z, p=2, dim=1).mean().item()  # Should be ~√(latent_dim)\n",
    "\n",
    "print(f\"Mean distance to 0: {latent_mean.item()}\")\n",
    "print(f\"Mean std deviation: {latent_std.item()}\")\n",
    "print(f\"Mean L2 norm: {latent_l2.item()}\")"
   ]
  },
  {
   "cell_type": "code",
   "execution_count": null,
   "id": "25b55be6",
   "metadata": {},
   "outputs": [
    {
     "ename": "TypeError",
     "evalue": "only integer tensors of a single element can be converted to an index",
     "output_type": "error",
     "traceback": [
      "\u001b[1;31m---------------------------------------------------------------------------\u001b[0m",
      "\u001b[1;31mTypeError\u001b[0m                                 Traceback (most recent call last)",
      "Cell \u001b[1;32mIn[13], line 35\u001b[0m\n\u001b[0;32m     33\u001b[0m images \u001b[38;5;241m=\u001b[39m torch\u001b[38;5;241m.\u001b[39mstack(images)\u001b[38;5;241m.\u001b[39mfloat()\u001b[38;5;241m.\u001b[39mto(device) \u001b[38;5;241m/\u001b[39m \u001b[38;5;241m255.0\u001b[39m  \u001b[38;5;66;03m# Normalize and move to device\u001b[39;00m\n\u001b[0;32m     34\u001b[0m images \u001b[38;5;241m=\u001b[39m images\u001b[38;5;241m.\u001b[39mview(images\u001b[38;5;241m.\u001b[39msize(\u001b[38;5;241m0\u001b[39m), \u001b[38;5;241m3\u001b[39m, \u001b[38;5;241m64\u001b[39m, \u001b[38;5;241m64\u001b[39m)  \u001b[38;5;66;03m# Reshape the images to match the input size of the encoder\u001b[39;00m\n\u001b[1;32m---> 35\u001b[0m labels \u001b[38;5;241m=\u001b[39m \u001b[43mtorch\u001b[49m\u001b[38;5;241;43m.\u001b[39;49m\u001b[43mtensor\u001b[49m\u001b[43m(\u001b[49m\u001b[43mlabels\u001b[49m\u001b[43m)\u001b[49m\n\u001b[0;32m     37\u001b[0m plot_latent_space(model\u001b[38;5;241m.\u001b[39mencoder, images, y\u001b[38;5;241m=\u001b[39mlabels, latent_dim\u001b[38;5;241m=\u001b[39mlatent_dim)\n",
      "\u001b[1;31mTypeError\u001b[0m: only integer tensors of a single element can be converted to an index"
     ]
    }
   ],
   "source": [
    "import torch\n",
    "import matplotlib.pyplot as plt\n",
    "import numpy as np\n",
    "from sklearn.decomposition import PCA\n",
    "\n",
    "# Assume `encoder` is your VAE's encoder and `x` is a batch of input data\n",
    "def plot_latent_space(encoder, x, y=None, latent_dim=2):\n",
    "    enc_out = encoder(x)\n",
    "    with torch.no_grad():\n",
    "        if isinstance(enc_out, tuple):\n",
    "            mu, _ = enc_out  # Assuming encoder outputs (mu, logvar)\n",
    "        else:\n",
    "            mu = enc_out[:, :latent_dim]\n",
    "            logvar = enc_out[:, latent_dim:]\n",
    "\n",
    "    mu = mu.detach().cpu().numpy()\n",
    "\n",
    "    if latent_dim > 2:\n",
    "        pca = PCA(n_components=2)\n",
    "        mu = pca.fit_transform(mu)\n",
    "    print(mu)\n",
    "    plt.figure(figsize=(8, 6))\n",
    "    scatter = plt.scatter(mu[:, 0], mu[:, 1], c=y, cmap='viridis', alpha=0.6, edgecolors='k')\n",
    "    plt.colorbar(scatter, label='Class' if y is not None else 'Value')\n",
    "    plt.title('Latent Space Visualization')\n",
    "    plt.xlabel('Latent Dimension 1')\n",
    "    plt.ylabel('Latent Dimension 2')\n",
    "    plt.grid(True)\n",
    "    plt.show()\n",
    "\n",
    "# Example usage:\n",
    "images, labels = zip(*[train[i] for i in range(1000)])\n",
    "images = torch.stack(images).float().to(device) / 255.0  # Normalize and move to device\n",
    "images = images.view(images.size(0), 3, 64, 64)  # Reshape the images to match the input size of the encoder\n",
    "labels = torch.tensor(labels)\n",
    "\n",
    "plot_latent_space(model.encoder, images, y=labels, latent_dim=latent_dim)\n"
   ]
  },
  {
   "cell_type": "code",
   "execution_count": null,
   "id": "5e2699ba",
   "metadata": {},
   "outputs": [],
   "source": []
  }
 ],
 "metadata": {
  "kernelspec": {
   "display_name": "Python 3",
   "language": "python",
   "name": "python3"
  },
  "language_info": {
   "codemirror_mode": {
    "name": "ipython",
    "version": 3
   },
   "file_extension": ".py",
   "mimetype": "text/x-python",
   "name": "python",
   "nbconvert_exporter": "python",
   "pygments_lexer": "ipython3",
   "version": "3.11.4"
  }
 },
 "nbformat": 4,
 "nbformat_minor": 5
}
