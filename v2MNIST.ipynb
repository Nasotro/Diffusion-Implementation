{
 "cells": [
  {
   "cell_type": "code",
   "execution_count": 1,
   "metadata": {},
   "outputs": [],
   "source": [
    "import torch\n",
    "import torchvision\n",
    "import torchvision.transforms as transforms\n",
    "import torch.nn as nn\n",
    "from torch.utils.data import DataLoader\n",
    "\n",
    "\n",
    "from models.unet import Unet\n",
    "\n",
    "import matplotlib.pyplot as plt\n",
    "import numpy as np\n",
    "\n",
    "from utils.utils import show_image\n",
    "from utils.noise import CosineNoiseAdder\n",
    "\n",
    "from data.dataset import MNIST_Dataset, CIFAR10_Dataset\n",
    "\n",
    "from tqdm import tqdm"
   ]
  },
  {
   "cell_type": "code",
   "execution_count": 2,
   "metadata": {},
   "outputs": [
    {
     "name": "stdout",
     "output_type": "stream",
     "text": [
      "start with shape torch.Size([1, 1, 32, 32])\n",
      "label shape : torch.Size([1])\n",
      "label_embeddings shape : torch.Size([1, 32])\n",
      "label_embeddings shape : torch.Size([1, 32, 1, 1])\n",
      "label_embeddings shape : torch.Size([1, 32, 32, 32])\n",
      "after concatenating the timestep embedds : torch.Size([1, 65, 32, 32])\n",
      "down block 0, with shape torch.Size([1, 65, 32, 32])\n",
      "down block 1, with shape torch.Size([1, 64, 16, 16])\n",
      "down block 2, with shape torch.Size([1, 128, 8, 8])\n",
      "after bottleneck : shape = torch.Size([1, 256, 8, 8])\n",
      "up block 0, with shape torch.Size([1, 256, 8, 8]), and skip shape : torch.Size([1, 256, 8, 8])\n",
      "up block 1, with shape torch.Size([1, 128, 16, 16]), and skip shape : torch.Size([1, 128, 16, 16])\n",
      "after final : shape = torch.Size([1, 1, 32, 32])\n",
      "torch.Size([1, 1, 32, 32])\n"
     ]
    }
   ],
   "source": [
    "# testing net shapes\n",
    "net = Unet(64, depth=3, time_embed_dim=32, label_emb_dim=32,\n",
    "           num_label=10, initial_channels=1, conv_layers=2)\n",
    "test_img = torch.randn(1, 1, 32, 32)\n",
    "test_time = torch.tensor([1])\n",
    "test_label = torch.tensor([1])\n",
    "print(net(test_img, test_time, test_label, verbose=True).shape)"
   ]
  },
  {
   "cell_type": "markdown",
   "metadata": {},
   "source": [
    "## Set up"
   ]
  },
  {
   "cell_type": "code",
   "execution_count": 3,
   "metadata": {},
   "outputs": [],
   "source": [
    "class CFG:\n",
    "    # dataset\n",
    "    batch_size = 4\n",
    "    \n",
    "    # noise\n",
    "    B_0 = 1e-4\n",
    "    B_T = 2e-2\n",
    "    T = 500\n",
    "    schedule_type = 'cosine'\n",
    "    s = 0.008"
   ]
  },
  {
   "cell_type": "markdown",
   "metadata": {},
   "source": [
    "## Noise Dataset"
   ]
  },
  {
   "cell_type": "code",
   "execution_count": 4,
   "metadata": {},
   "outputs": [],
   "source": [
    "class NoiseDataset():\n",
    "    def __init__(self, imgs_dataset, noise_schedule = None):\n",
    "        self.imgs_dataset = imgs_dataset\n",
    "        self.noise_schedule = noise_schedule if noise_schedule else CosineNoiseAdder()       \n",
    "\n",
    "    def __getitem__(self, idx):\n",
    "        img, label = self.imgs_dataset[idx]\n",
    "        t = torch.randint(self.noise_schedule.T, (1, )).squeeze()\n",
    "        noisy_img, noise = self.noise_schedule.image_at_time_step(img, t)\n",
    "        return noisy_img, noise, t, label\n",
    "\n",
    "    def __len__(self):\n",
    "        return len(self.imgs_dataset)"
   ]
  },
  {
   "cell_type": "markdown",
   "metadata": {},
   "source": [
    "## Training"
   ]
  },
  {
   "cell_type": "markdown",
   "metadata": {},
   "source": [
    "### Weight Initialization"
   ]
  },
  {
   "cell_type": "code",
   "execution_count": 5,
   "metadata": {},
   "outputs": [],
   "source": [
    "def init_weights(m):\n",
    "    if isinstance(m, nn.Conv2d):\n",
    "        nn.init.xavier_normal_(m.weight, gain=1)\n",
    "        if m.bias is not None:\n",
    "            nn.init.constant_(m.bias, 0)\n",
    "    if isinstance(m, nn.Linear):\n",
    "        nn.init.kaiming_normal_(m.weight, mode='fan_in', nonlinearity='relu')\n",
    "        if m.bias is not None:\n",
    "            nn.init.constant_(m.bias, 0)\n"
   ]
  },
  {
   "cell_type": "code",
   "execution_count": 6,
   "metadata": {},
   "outputs": [],
   "source": [
    "def eval_model(model:nn.Module, _test_loader, criterion, device):\n",
    "    model.eval()\n",
    "    losses = []\n",
    "    with torch.no_grad():\n",
    "        for i, (noisy_imgs, noises, time_steps, labels) in enumerate(_test_loader):\n",
    "            noisy_imgs, noises, time_steps, labels = noisy_imgs.to(device), noises.to(device), time_steps.to(device), labels.to(device)\n",
    "            outputs = model(noisy_imgs, time_steps, labels)\n",
    "            loss = criterion(outputs, noises)\n",
    "            losses.append(loss.item())\n",
    "            # print(loss, losses)\n",
    "            # print(f\"Batch {i}, Loss: {loss.item()}\")\n",
    "    return sum(losses)/len(losses)"
   ]
  },
  {
   "cell_type": "markdown",
   "metadata": {},
   "source": [
    "### Training Loop"
   ]
  },
  {
   "cell_type": "code",
   "execution_count": null,
   "metadata": {},
   "outputs": [
    {
     "data": {
      "image/png": "[encoded data removed]",
      "text/plain": [
       "<Figure size 640x480 with 1 Axes>"
      ]
     },
     "metadata": {},
     "output_type": "display_data"
    }
   ],
   "source": [
    "# hyperparameters\n",
    "n_epochs = 10\n",
    "batch_size = 16\n",
    "lr = 1e-3\n",
    "dropout = 0.2\n",
    "max_time_steps = 200\n",
    "patience = 5000\n",
    "\n",
    "\n",
    "test = None\n",
    "train = None\n",
    "net = None\n",
    "\n",
    "CosineNoise = CosineNoiseAdder(max_time_steps)\n",
    "\n",
    "\n",
    "# dataset = \"CIFAR10\"\n",
    "dataset = \"MNIST\"\n",
    "\n",
    "if dataset == \"MNIST\":\n",
    "    initial_channels = 1\n",
    "    trans = transforms.Compose([\n",
    "        transforms.ToTensor(),\n",
    "        transforms.Resize((32, 32)),\n",
    "        transforms.Normalize((0.5,), (0.5, ))])\n",
    "    \n",
    "    train = NoiseDataset(MNIST_Dataset(transform=trans), CosineNoise)\n",
    "    test = NoiseDataset(MNIST_Dataset('test', transform=trans), CosineNoise)\n",
    "    \n",
    "    net = Unet(32, depth=2, time_embed_dim=16, label_emb_dim=16,\n",
    "           num_label=10, initial_channels=initial_channels, \n",
    "           conv_layers=3, dropout=dropout)\n",
    "\n",
    "if dataset == \"CIFAR10\":\n",
    "    initial_channels = 3\n",
    "    trans = transforms.Compose([\n",
    "        transforms.ToTensor(),\n",
    "        transforms.Resize((32, 32)),\n",
    "        transforms.Normalize((0.5, 0.5, 0.5), (0.5, 0.5, 0.5))])\n",
    "    \n",
    "    train = NoiseDataset(CIFAR10_Dataset(transform=trans), CosineNoise)\n",
    "    test = NoiseDataset(CIFAR10_Dataset(transform=trans, split='test'), CosineNoise)\n",
    "    \n",
    "    net = Unet(64, depth=3, time_embed_dim=16, label_emb_dim=16,\n",
    "           num_label=10, initial_channels=initial_channels, \n",
    "           conv_layers=2, dropout=dropout)\n",
    "\n",
    "show_image(train[1][0], title=\"Noisy Image\")"
   ]
  },
  {
   "cell_type": "code",
   "execution_count": 8,
   "metadata": {},
   "outputs": [],
   "source": [
    "# train = torch.utils.data.Subset(train, range(0, 1000))\n",
    "# test = torch.utils.data.Subset(test, range(0, 100))\n",
    "train_loader = DataLoader(train, shuffle=True, batch_size=batch_size)\n",
    "test_loader = DataLoader(test, shuffle=False, batch_size=batch_size)\n",
    "\n",
    "net.apply(init_weights)\n",
    "\n",
    "\n",
    "# loss and optimizer\n",
    "criterion = nn.MSELoss()\n",
    "optimizer = torch.optim.AdamW(net.parameters(), lr=lr)\n",
    "# scheduler = torch.optim.lr_scheduler.StepLR(optimizer, step_size=10000, gamma=0.316)\n",
    "scheduler = torch.optim.lr_scheduler.CosineAnnealingLR(\n",
    "    optimizer, T_max=n_epochs * len(train_loader), eta_min=1e-5)\n",
    "# scheduler = torch.optim.lr_scheduler.ReduceLROnPlateau(optimizer, 'min', factor=0.5, patience=50, min_lr=1e-4)\n"
   ]
  },
  {
   "cell_type": "code",
   "execution_count": 9,
   "metadata": {},
   "outputs": [
    {
     "name": "stdout",
     "output_type": "stream",
     "text": [
      "Using device: cuda\n"
     ]
    },
    {
     "name": "stderr",
     "output_type": "stream",
     "text": [
      "Epoch 1/10: 100%|██████████| 3750/3750 [02:55<00:00, 21.40it/s, Loss=0.0283, Val Loss=0.0391, lr=0.00098] \n",
      "Epoch 2/10: 100%|██████████| 3750/3750 [02:52<00:00, 21.73it/s, Loss=0.0331, Val Loss=0.0348, lr=0.000914]\n",
      "Epoch 3/10: 100%|██████████| 3750/3750 [02:41<00:00, 23.19it/s, Loss=0.0229, Val Loss=0.0317, lr=0.000808]\n",
      "Epoch 4/10: 100%|██████████| 3750/3750 [02:38<00:00, 23.72it/s, Loss=0.0359, Val Loss=0.0298, lr=0.000673]\n",
      "Epoch 5/10: 100%|██████████| 3750/3750 [02:33<00:00, 24.45it/s, Loss=0.0315, Val Loss=0.0291, lr=0.000521]\n",
      "Epoch 6/10:  30%|███       | 1125/3750 [00:50<01:58, 22.16it/s, Loss=0.024, Val Loss=0.0287, lr=0.000474]\n"
     ]
    },
    {
     "ename": "KeyboardInterrupt",
     "evalue": "",
     "output_type": "error",
     "traceback": [
      "\u001b[1;31m---------------------------------------------------------------------------\u001b[0m",
      "\u001b[1;31mKeyboardInterrupt\u001b[0m                         Traceback (most recent call last)",
      "Cell \u001b[1;32mIn[9], line 36\u001b[0m\n\u001b[0;32m     32\u001b[0m train_losses\u001b[38;5;241m.\u001b[39mappend(loss\u001b[38;5;241m.\u001b[39mitem())\n\u001b[0;32m     34\u001b[0m \u001b[38;5;28;01mif\u001b[39;00m i \u001b[38;5;241m%\u001b[39m eval_every \u001b[38;5;241m==\u001b[39m \u001b[38;5;241m0\u001b[39m \u001b[38;5;129;01mand\u001b[39;00m i \u001b[38;5;241m>\u001b[39m \u001b[38;5;241m0\u001b[39m:\n\u001b[1;32m---> 36\u001b[0m     val_loss \u001b[38;5;241m=\u001b[39m \u001b[43meval_model\u001b[49m\u001b[43m(\u001b[49m\u001b[43mnet\u001b[49m\u001b[43m,\u001b[49m\u001b[43m \u001b[49m\u001b[43mtest_loader\u001b[49m\u001b[43m,\u001b[49m\u001b[43m \u001b[49m\u001b[43mcriterion\u001b[49m\u001b[43m,\u001b[49m\u001b[43m \u001b[49m\u001b[43mdevice\u001b[49m\u001b[43m)\u001b[49m\n\u001b[0;32m     37\u001b[0m     val_losses\u001b[38;5;241m.\u001b[39mappend(val_loss)\n\u001b[0;32m     38\u001b[0m     \u001b[38;5;66;03m# print(f'Epoch [{epoch+1}/{n_epochs}], Step [{i}/{len(train_loader)}], Loss: {loss.item():.4f}, Val Loss: {val_loss:.4f}, lr: {scheduler.get_last_lr()[0]}')\u001b[39;00m\n",
      "Cell \u001b[1;32mIn[6], line 6\u001b[0m, in \u001b[0;36meval_model\u001b[1;34m(model, _test_loader, criterion, device)\u001b[0m\n\u001b[0;32m      4\u001b[0m \u001b[38;5;28;01mwith\u001b[39;00m torch\u001b[38;5;241m.\u001b[39mno_grad():\n\u001b[0;32m      5\u001b[0m     \u001b[38;5;28;01mfor\u001b[39;00m i, (noisy_imgs, noises, time_steps, labels) \u001b[38;5;129;01min\u001b[39;00m \u001b[38;5;28menumerate\u001b[39m(_test_loader):\n\u001b[1;32m----> 6\u001b[0m         noisy_imgs, noises, time_steps, labels \u001b[38;5;241m=\u001b[39m noisy_imgs\u001b[38;5;241m.\u001b[39mto(device), \u001b[43mnoises\u001b[49m\u001b[38;5;241;43m.\u001b[39;49m\u001b[43mto\u001b[49m\u001b[43m(\u001b[49m\u001b[43mdevice\u001b[49m\u001b[43m)\u001b[49m, time_steps\u001b[38;5;241m.\u001b[39mto(device), labels\u001b[38;5;241m.\u001b[39mto(device)\n\u001b[0;32m      7\u001b[0m         outputs \u001b[38;5;241m=\u001b[39m model(noisy_imgs, time_steps, labels)\n\u001b[0;32m      8\u001b[0m         loss \u001b[38;5;241m=\u001b[39m criterion(outputs, noises)\n",
      "\u001b[1;31mKeyboardInterrupt\u001b[0m: "
     ]
    }
   ],
   "source": [
    "device = torch.device('cuda' if torch.cuda.is_available() else 'cpu')\n",
    "print(f\"Using device: {device}\")\n",
    "net.to(device)\n",
    "\n",
    "# keep track of the loss\n",
    "train_losses = []\n",
    "val_losses = []\n",
    "best_loss = np.inf\n",
    "best_loss_i = 0\n",
    "stoping = False\n",
    "eval_every = len(train_loader) // 10\n",
    "\n",
    "net.train()\n",
    "# training loop\n",
    "for epoch in range(n_epochs):\n",
    "    train_loader_tqdm = tqdm(train_loader, desc=f'Epoch {epoch+1}/{n_epochs}', leave=True)\n",
    "    for i, batch in enumerate(train_loader_tqdm):\n",
    "        noisy_imgs, noises, time_steps, labels = batch\n",
    "        noisy_imgs, noises, time_steps, labels = noisy_imgs.to(\n",
    "            device), noises.to(device), time_steps.to(device), labels.to(device)\n",
    "        # print(noisy_imgs.shape, noises.shape, time_steps.shape, labels.shape)\n",
    "\n",
    "        optimizer.zero_grad()\n",
    "\n",
    "        predicted_noise = net(noisy_imgs, time_steps, labels, verbose=False)\n",
    "        loss = criterion(predicted_noise, noises)\n",
    "\n",
    "        loss.backward()\n",
    "        torch.nn.utils.clip_grad_norm_(net.parameters(), max_norm=1.0)\n",
    "        optimizer.step()\n",
    "\n",
    "        train_losses.append(loss.item())\n",
    "\n",
    "        if i % eval_every == 0 and i > 0:\n",
    "            \n",
    "            val_loss = eval_model(net, test_loader, criterion, device)\n",
    "            val_losses.append(val_loss)\n",
    "            # print(f'Epoch [{epoch+1}/{n_epochs}], Step [{i}/{len(train_loader)}], Loss: {loss.item():.4f}, Val Loss: {val_loss:.4f}, lr: {scheduler.get_last_lr()[0]}')\n",
    "            train_loader_tqdm.set_postfix({'Loss': loss.item(), 'Val Loss': val_loss, 'lr': scheduler.get_last_lr()[0]})\n",
    "\n",
    "            \n",
    "            if val_loss < best_loss:\n",
    "                best_loss = val_loss\n",
    "                best_loss_i = epoch * len(train_loader) + i\n",
    "                torch.save(net.state_dict(), 'best_model_MNIST.pth')\n",
    "\n",
    "            if epoch * len(train_loader) + i - best_loss_i > patience:\n",
    "                print(\"Stopping early\")\n",
    "                stoping = True\n",
    "                break\n",
    "\n",
    "        # show_image(noisy_imgs[0], title=\"noisy image\")\n",
    "        # show_image(predicted_noise[0], title=\"predicted noise\")\n",
    "\n",
    "        # break\n",
    "        scheduler.step()\n",
    "        # train_loader_tqdm.set_postfix({'Loss': loss.item(), 'Val Loss': val_loss, 'lr': scheduler.get_last_lr()[0]})\n",
    "    # if epoch % 4 == 0:\n",
    "    #     scheduler.step()\n",
    "    if stoping:\n",
    "        break\n",
    "    # break\n",
    "\n",
    "plt.figure(figsize=(10, 5))\n",
    "train_losses_resized = [np.mean(train_losses[i * eval_every:(i + 1) * eval_every]) for i in range(len(val_losses))]\n",
    "plt.plot(np.arange(0, len(train_losses_resized)) * eval_every / len(train_loader), train_losses_resized, label='Training Loss (averaged)')\n",
    "plt.plot(np.arange(0, len(val_losses)) * eval_every / len(train_loader), val_losses, label='Validation Loss')\n",
    "plt.xlabel('Epoch')\n",
    "plt.ylabel('Loss')\n",
    "plt.legend()\n",
    "plt.show()"
   ]
  },
  {
   "cell_type": "code",
   "execution_count": null,
   "metadata": {},
   "outputs": [
    {
     "data": {
      "text/plain": [
       "Unet(\n",
       "  (time_emb): SinusoidalPositionEmbeddings()\n",
       "  (label_emb): Embedding(10, 16)\n",
       "  (down_blocks): ModuleList(\n",
       "    (0): DownBlock(\n",
       "      (silu): SiLU()\n",
       "      (convs): ModuleList(\n",
       "        (0): Conv2d(33, 64, kernel_size=(3, 3), stride=(1, 1), padding=(1, 1))\n",
       "        (1-2): 2 x Conv2d(64, 64, kernel_size=(3, 3), stride=(1, 1), padding=(1, 1))\n",
       "      )\n",
       "      (norms): ModuleList(\n",
       "        (0-2): 3 x BatchNorm2d(64, eps=1e-05, momentum=0.1, affine=True, track_running_stats=True)\n",
       "      )\n",
       "      (dropouts): ModuleList(\n",
       "        (0-2): 3 x Dropout(p=0.2, inplace=False)\n",
       "      )\n",
       "      (max_pooling): MaxPool2d(kernel_size=3, stride=2, padding=1, dilation=1, ceil_mode=False)\n",
       "    )\n",
       "  )\n",
       "  (up_blocks): ModuleList()\n",
       "  (bottleneck): BottleNeck(\n",
       "    (convs): ModuleList(\n",
       "      (0): Conv2d(64, 128, kernel_size=(3, 3), stride=(1, 1), padding=(1, 1))\n",
       "      (1-2): 2 x Conv2d(128, 128, kernel_size=(3, 3), stride=(1, 1), padding=(1, 1))\n",
       "    )\n",
       "    (norms): ModuleList(\n",
       "      (0-2): 3 x BatchNorm2d(128, eps=1e-05, momentum=0.1, affine=True, track_running_stats=True)\n",
       "    )\n",
       "    (dropouts): ModuleList(\n",
       "      (0-2): 3 x Dropout(p=0.2, inplace=False)\n",
       "    )\n",
       "    (up_conv): ConvTranspose2d(128, 64, kernel_size=(2, 2), stride=(2, 2))\n",
       "    (silu): SiLU()\n",
       "  )\n",
       "  (final): FinalBlock(\n",
       "    (silu): SiLU()\n",
       "    (convs): ModuleList(\n",
       "      (0): Conv2d(128, 64, kernel_size=(3, 3), stride=(1, 1), padding=(1, 1))\n",
       "      (1-2): 2 x Conv2d(64, 64, kernel_size=(3, 3), stride=(1, 1), padding=(1, 1))\n",
       "    )\n",
       "    (norms): ModuleList(\n",
       "      (0-2): 3 x BatchNorm2d(64, eps=1e-05, momentum=0.1, affine=True, track_running_stats=True)\n",
       "    )\n",
       "    (dropouts): ModuleList(\n",
       "      (0-2): 3 x Dropout(p=0.2, inplace=False)\n",
       "    )\n",
       "    (final_conv): Conv2d(64, 1, kernel_size=(3, 3), stride=(1, 1), padding=(1, 1))\n",
       "  )\n",
       ")"
      ]
     },
     "execution_count": 49,
     "metadata": {},
     "output_type": "execute_result"
    }
   ],
   "source": [
    "net.load_state_dict(torch.load('best_model_MNIST.pth'))\n",
    "net.eval()"
   ]
  },
  {
   "cell_type": "code",
   "execution_count": null,
   "metadata": {},
   "outputs": [
    {
     "ename": "NameError",
     "evalue": "name 'torch' is not defined",
     "output_type": "error",
     "traceback": [
      "\u001b[1;31m---------------------------------------------------------------------------\u001b[0m",
      "\u001b[1;31mNameError\u001b[0m                                 Traceback (most recent call last)",
      "Cell \u001b[1;32mIn[1], line 4\u001b[0m\n\u001b[0;32m      1\u001b[0m max_time_steps \u001b[38;5;241m=\u001b[39m \u001b[38;5;241m200\u001b[39m\n\u001b[0;32m      3\u001b[0m n_samples \u001b[38;5;241m=\u001b[39m \u001b[38;5;241m1\u001b[39m\n\u001b[1;32m----> 4\u001b[0m xt \u001b[38;5;241m=\u001b[39m \u001b[43mtorch\u001b[49m\u001b[38;5;241m.\u001b[39mrandn((n_samples, initial_channels, \u001b[38;5;241m32\u001b[39m, \u001b[38;5;241m32\u001b[39m))\u001b[38;5;241m.\u001b[39mto(device)\n\u001b[0;32m      5\u001b[0m T \u001b[38;5;241m=\u001b[39m max_time_steps\n\u001b[0;32m      6\u001b[0m s \u001b[38;5;241m=\u001b[39m \u001b[38;5;241m0.008\u001b[39m\n",
      "\u001b[1;31mNameError\u001b[0m: name 'torch' is not defined"
     ]
    }
   ],
   "source": [
    "max_time_steps = 200\n",
    "\n",
    "n_samples = 1\n",
    "xt = torch.randn((n_samples, initial_channels, 32, 32)).to(device)\n",
    "T = max_time_steps\n",
    "s = 0.008\n",
    "\n",
    "# 'plane', 'car', 'bird', 'cat', 'deer', 'dog', 'frog', 'horse', 'ship', 'truck'\n",
    "label = torch.tensor([5], device=device)\n",
    "\n",
    "CosineNoise = CosineNoiseAdder(max_time_steps, s)\n",
    "\n",
    "# print(CosineNoise.get_alpha_t(T))\n",
    "for _ in range(1):\n",
    "    with torch.no_grad():\n",
    "        full_img = torch.tensor([], device=device)\n",
    "        full_predicted_noise = torch.tensor([], device=device)\n",
    "    \n",
    "        xt = torch.randn((n_samples, initial_channels, 32, 32)).to(device)\n",
    "        for t in torch.arange(max_time_steps-1, -1, -1):\n",
    "            t = t.expand((n_samples)).to(device)\n",
    "            a_t = CosineNoise.get_alpha_t(t)\n",
    "            alpha_t_barre = CosineNoise.get_alpha_t_barre(t)\n",
    "            sigma = torch.sqrt(1-a_t).view(n_samples, 1, 1, 1)\n",
    "            z = torch.randn_like(xt)\n",
    "            # print(xt.shape)\n",
    "            epsilon = net(xt, t, label)\n",
    "            a = ((1 - a_t)/(torch.sqrt(1 - alpha_t_barre))).view(n_samples, 1, 1, 1)\n",
    "            b = (1/torch.sqrt(a_t)).view(n_samples, 1, 1, 1)\n",
    "            \n",
    "            if t.item() % (max_time_steps / 10) == 0 or t.item() == max_time_steps-1:\n",
    "                # print(t.item())\n",
    "                full_img = torch.cat((full_img, xt), 3)\n",
    "                full_predicted_noise = torch.cat((full_predicted_noise, epsilon), 3)\n",
    "                # print(xt.shape)\n",
    "                # show_image(xt[0], f'{t.item()}%')\n",
    "                # show_image(full_img[0])\n",
    "            \n",
    "            # print(t[0].item(), a_t[0].item(), alpha_t_barre[0].item(), sigma[0].item(), a[0].item(), b[0].item(), z.shape, epsilon.shape, sep=' | ')\n",
    "            # print(xt.shape, epsilon.shape)\n",
    "            \n",
    "            xt = b*(xt - a*epsilon) + sigma*z\n",
    "\n",
    "            # xt = torch.sqrt(1 - a_t).view(n_samples, 1, 1, 1) * epsilon + sigma * z\n",
    "            \n",
    "            # xt = b * (xt - torch.sqrt(1-alpha_t_barre)*epsilon) + sigma*z\n",
    "            \n",
    "            # print(xt[0][0][0][0], xt[0][1][0][0], xt[0][2][0][0])\n",
    "            # print(xt[0])\n",
    "\n",
    "        show_image(xt[0])\n",
    "        \n",
    "    # print(full_img.shape)\n",
    "        show_image(full_img[0])\n",
    "        # show_image(full_predicted_noise[0])"
   ]
  },
  {
   "cell_type": "code",
   "execution_count": null,
   "metadata": {},
   "outputs": [],
   "source": []
  },
  {
   "cell_type": "code",
   "execution_count": null,
   "metadata": {},
   "outputs": [],
   "source": []
  }
 ],
 "metadata": {
  "kernelspec": {
   "display_name": "Python 3",
   "language": "python",
   "name": "python3"
  },
  "language_info": {
   "codemirror_mode": {
    "name": "ipython",
    "version": 3
   },
   "file_extension": ".py",
   "mimetype": "text/x-python",
   "name": "python",
   "nbconvert_exporter": "python",
   "pygments_lexer": "ipython3",
   "version": "3.11.4"
  }
 },
 "nbformat": 4,
 "nbformat_minor": 2
}
